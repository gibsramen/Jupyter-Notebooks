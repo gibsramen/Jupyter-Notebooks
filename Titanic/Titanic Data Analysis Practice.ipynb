{
 "cells": [
  {
   "cell_type": "markdown",
   "metadata": {},
   "source": [
    "<h1>1 Introduction</h1>\n",
    "\n",
    "This will be a notebook chronicling my <del>failed</del> attempts at introductory data science. The goal here is to use the famous <a href=https://www.kaggle.com/c/titanic>Titanic data set</a> to predict survival on the Titanic with machine learning. Previously, I followed a step-by-step tutorial to achieve a score of about 0.8 (80%). This time, I am going to try to do it on my own."
   ]
  },
  {
   "cell_type": "markdown",
   "metadata": {},
   "source": [
    "<h1>2 Preliminary Look at the Data</h2>"
   ]
  },
  {
   "cell_type": "code",
   "execution_count": 1,
   "metadata": {
    "collapsed": false
   },
   "outputs": [
    {
     "name": "stderr",
     "output_type": "stream",
     "text": [
      "randomForest 4.6-12\n",
      "Type rfNews() to see new features/changes/bug fixes.\n",
      "\n",
      "Attaching package: ‘ggplot2’\n",
      "\n",
      "The following object is masked from ‘package:randomForest’:\n",
      "\n",
      "    margin\n",
      "\n"
     ]
    }
   ],
   "source": [
    "# importing libraries is always useful\n",
    "library(randomForest)\n",
    "library(ggplot2)\n",
    "library(repr)\n",
    "library(rpart)\n",
    "options(repr.plot.width=4, repr.plot.height=3)"
   ]
  },
  {
   "cell_type": "code",
   "execution_count": 2,
   "metadata": {
    "collapsed": false
   },
   "outputs": [],
   "source": [
    "# having the datasets would be nice\n",
    "\n",
    "train <- read.csv(\"train.csv\", stringsAsFactors=F)\n",
    "test <- read.csv(\"test.csv\", stringsAsFactors=F)\n",
    "\n",
    "# add the Survived column to test\n",
    "test$Survived <- 0\n",
    "\n",
    "# bind the two for now\n",
    "comb <- rbind(train,test)\n",
    "\n",
    "comb$Sex <- as.factor(comb$Sex)"
   ]
  },
  {
   "cell_type": "markdown",
   "metadata": {},
   "source": [
    "Let's see what the data look like."
   ]
  },
  {
   "cell_type": "code",
   "execution_count": 3,
   "metadata": {
    "collapsed": false
   },
   "outputs": [
    {
     "name": "stdout",
     "output_type": "stream",
     "text": [
      "'data.frame':\t891 obs. of  12 variables:\n",
      " $ PassengerId: int  1 2 3 4 5 6 7 8 9 10 ...\n",
      " $ Survived   : int  0 1 1 1 0 0 0 0 1 1 ...\n",
      " $ Pclass     : int  3 1 3 1 3 3 1 3 3 2 ...\n",
      " $ Name       : chr  \"Braund, Mr. Owen Harris\" \"Cumings, Mrs. John Bradley (Florence Briggs Thayer)\" \"Heikkinen, Miss. Laina\" \"Futrelle, Mrs. Jacques Heath (Lily May Peel)\" ...\n",
      " $ Sex        : chr  \"male\" \"female\" \"female\" \"female\" ...\n",
      " $ Age        : num  22 38 26 35 35 NA 54 2 27 14 ...\n",
      " $ SibSp      : int  1 1 0 1 0 0 0 3 0 1 ...\n",
      " $ Parch      : int  0 0 0 0 0 0 0 1 2 0 ...\n",
      " $ Ticket     : chr  \"A/5 21171\" \"PC 17599\" \"STON/O2. 3101282\" \"113803\" ...\n",
      " $ Fare       : num  7.25 71.28 7.92 53.1 8.05 ...\n",
      " $ Cabin      : chr  \"\" \"C85\" \"\" \"C123\" ...\n",
      " $ Embarked   : chr  \"S\" \"C\" \"S\" \"S\" ...\n"
     ]
    }
   ],
   "source": [
    "str(train)"
   ]
  },
  {
   "cell_type": "code",
   "execution_count": 4,
   "metadata": {
    "collapsed": false
   },
   "outputs": [
    {
     "data": {
      "text/html": [
       "<table>\n",
       "<thead><tr><th></th><th scope=col>PassengerId</th><th scope=col>Survived</th><th scope=col>Pclass</th><th scope=col>Name</th><th scope=col>Sex</th><th scope=col>Age</th><th scope=col>SibSp</th><th scope=col>Parch</th><th scope=col>Ticket</th><th scope=col>Fare</th><th scope=col>Cabin</th><th scope=col>Embarked</th></tr></thead>\n",
       "<tbody>\n",
       "\t<tr><th scope=row>1</th><td>1                      </td><td>0                      </td><td>3                      </td><td>Braund, Mr. Owen Harris</td><td>male                   </td><td>22                     </td><td>1                      </td><td>0                      </td><td>A/5 21171              </td><td>7.25                   </td><td>                       </td><td>S                      </td></tr>\n",
       "\t<tr><th scope=row>2</th><td>2                                                  </td><td>1                                                  </td><td>1                                                  </td><td>Cumings, Mrs. John Bradley (Florence Briggs Thayer)</td><td>female                                             </td><td>38                                                 </td><td>1                                                  </td><td>0                                                  </td><td>PC 17599                                           </td><td>71.2833                                            </td><td>C85                                                </td><td>C                                                  </td></tr>\n",
       "\t<tr><th scope=row>3</th><td>3                     </td><td>1                     </td><td>3                     </td><td>Heikkinen, Miss. Laina</td><td>female                </td><td>26                    </td><td>0                     </td><td>0                     </td><td>STON/O2. 3101282      </td><td>7.925                 </td><td>                      </td><td>S                     </td></tr>\n",
       "\t<tr><th scope=row>4</th><td>4                                           </td><td>1                                           </td><td>1                                           </td><td>Futrelle, Mrs. Jacques Heath (Lily May Peel)</td><td>female                                      </td><td>35                                          </td><td>1                                           </td><td>0                                           </td><td>113803                                      </td><td>53.1                                        </td><td>C123                                        </td><td>S                                           </td></tr>\n",
       "\t<tr><th scope=row>5</th><td>5                       </td><td>0                       </td><td>3                       </td><td>Allen, Mr. William Henry</td><td>male                    </td><td>35                      </td><td>0                       </td><td>0                       </td><td>373450                  </td><td>8.05                    </td><td>                        </td><td>S                       </td></tr>\n",
       "\t<tr><th scope=row>6</th><td>6               </td><td>0               </td><td>3               </td><td>Moran, Mr. James</td><td>male            </td><td>NA              </td><td>0               </td><td>0               </td><td>330877          </td><td>8.4583          </td><td>                </td><td>Q               </td></tr>\n",
       "</tbody>\n",
       "</table>\n"
      ],
      "text/latex": [
       "\\begin{tabular}{r|llllllllllll}\n",
       "  & PassengerId & Survived & Pclass & Name & Sex & Age & SibSp & Parch & Ticket & Fare & Cabin & Embarked\\\\\n",
       "\\hline\n",
       "\t1 & 1                       & 0                       & 3                       & Braund, Mr. Owen Harris & male                    & 22                      & 1                       & 0                       & A/5 21171               & 7.25                    &                         & S                      \\\\\n",
       "\t2 & 2                                                   & 1                                                   & 1                                                   & Cumings, Mrs. John Bradley (Florence Briggs Thayer) & female                                              & 38                                                  & 1                                                   & 0                                                   & PC 17599                                            & 71.2833                                             & C85                                                 & C                                                  \\\\\n",
       "\t3 & 3                      & 1                      & 3                      & Heikkinen, Miss. Laina & female                 & 26                     & 0                      & 0                      & STON/O2. 3101282       & 7.925                  &                        & S                     \\\\\n",
       "\t4 & 4                                            & 1                                            & 1                                            & Futrelle, Mrs. Jacques Heath (Lily May Peel) & female                                       & 35                                           & 1                                            & 0                                            & 113803                                       & 53.1                                         & C123                                         & S                                           \\\\\n",
       "\t5 & 5                        & 0                        & 3                        & Allen, Mr. William Henry & male                     & 35                       & 0                        & 0                        & 373450                   & 8.05                     &                          & S                       \\\\\n",
       "\t6 & 6                & 0                & 3                & Moran, Mr. James & male             & NA               & 0                & 0                & 330877           & 8.4583           &                  & Q               \\\\\n",
       "\\end{tabular}\n"
      ],
      "text/plain": [
       "  PassengerId Survived Pclass\n",
       "1           1        0      3\n",
       "2           2        1      1\n",
       "3           3        1      3\n",
       "4           4        1      1\n",
       "5           5        0      3\n",
       "6           6        0      3\n",
       "                                                 Name    Sex Age SibSp Parch\n",
       "1                             Braund, Mr. Owen Harris   male  22     1     0\n",
       "2 Cumings, Mrs. John Bradley (Florence Briggs Thayer) female  38     1     0\n",
       "3                              Heikkinen, Miss. Laina female  26     0     0\n",
       "4        Futrelle, Mrs. Jacques Heath (Lily May Peel) female  35     1     0\n",
       "5                            Allen, Mr. William Henry   male  35     0     0\n",
       "6                                    Moran, Mr. James   male  NA     0     0\n",
       "            Ticket    Fare Cabin Embarked\n",
       "1        A/5 21171  7.2500              S\n",
       "2         PC 17599 71.2833   C85        C\n",
       "3 STON/O2. 3101282  7.9250              S\n",
       "4           113803 53.1000  C123        S\n",
       "5           373450  8.0500              S\n",
       "6           330877  8.4583              Q"
      ]
     },
     "metadata": {},
     "output_type": "display_data"
    }
   ],
   "source": [
    "head(train)"
   ]
  },
  {
   "cell_type": "markdown",
   "metadata": {},
   "source": [
    "How many people do we know survived?"
   ]
  },
  {
   "cell_type": "code",
   "execution_count": 5,
   "metadata": {
    "collapsed": false
   },
   "outputs": [
    {
     "name": "stdout",
     "output_type": "stream",
     "text": [
      "[1] 342\n",
      "[1] 0.3838384\n"
     ]
    }
   ],
   "source": [
    "survivors <- length(train$Survived[train$Survived==1])\n",
    "print(survivors)\n",
    "print(survivors / nrow(train))"
   ]
  },
  {
   "cell_type": "markdown",
   "metadata": {},
   "source": [
    "Of the training dataset, about 38% of passengers survived. I'd guess the percentange should be similar in the testing set. Let's think about this a bit before we do any data magic. What factors seem relevant to survival success? I'd guess class and gender would be most important. "
   ]
  },
  {
   "cell_type": "markdown",
   "metadata": {},
   "source": [
    "<h1>3 Class</h1>\n",
    "\n",
    "<h2>3.1 Passenger Class</h2>\n",
    "\n",
    "We'll first use 'Pclass' as an indication of social status. It stands to reason that 1st class passengers would be the wealthiest and 3rd class pasengers would be the poorest"
   ]
  },
  {
   "cell_type": "code",
   "execution_count": 6,
   "metadata": {
    "collapsed": false
   },
   "outputs": [
    {
     "data": {},
     "metadata": {},
     "output_type": "display_data"
    },
    {
     "data": {
      "image/png": "[encoded data removed]",
      "text/plain": [
       "plot without title"
      ]
     },
     "metadata": {},
     "output_type": "display_data"
    }
   ],
   "source": [
    "# how many people in each class survived\n",
    "class_plot <- ggplot(data=train, aes(x=Pclass, y=Survived))\n",
    "class_plot + geom_bar(stat=\"identity\")"
   ]
  },
  {
   "cell_type": "markdown",
   "metadata": {},
   "source": [
    "This... isn't very useful. Without any insight into how many people were in each class this is pretty meaningless."
   ]
  },
  {
   "cell_type": "code",
   "execution_count": 7,
   "metadata": {
    "collapsed": true
   },
   "outputs": [],
   "source": [
    "# count number of survivors and represent as proportion\n",
    "class_table <- table(train$Pclass, train$Survived)\n",
    "class_df <- data.frame(prop.table(class_table, 1))\n",
    "colnames(class_df) <- c(\"Class\", \"Survived\", \"Proportion\")"
   ]
  },
  {
   "cell_type": "code",
   "execution_count": 8,
   "metadata": {
    "collapsed": false
   },
   "outputs": [
    {
     "data": {},
     "metadata": {},
     "output_type": "display_data"
    },
    {
     "data": {
      "image/png": "[encoded data removed]",
      "text/plain": [
       "plot without title"
      ]
     },
     "metadata": {},
     "output_type": "display_data"
    }
   ],
   "source": [
    "# plot survival proportion vs class\n",
    "ggplot(data=class_df, aes(x=Class, y=Proportion, fill=Survived)) +\n",
    "    geom_bar(stat=\"identity\") + \n",
    "    scale_fill_discrete(name=\"Survival\", breaks=c(1, 0), labels=c(\"True\", \"False\"))"
   ]
  },
  {
   "cell_type": "markdown",
   "metadata": {},
   "source": [
    "Looks like our intuition was right: higher class people tended to have better survival rates."
   ]
  },
  {
   "cell_type": "code",
   "execution_count": 9,
   "metadata": {
    "collapsed": true
   },
   "outputs": [],
   "source": [
    "comb$Pclass <- as.factor(comb$Pclass)"
   ]
  },
  {
   "cell_type": "markdown",
   "metadata": {},
   "source": [
    "<h2>3.2 Passenger Title</h2>\n",
    "\n",
    "I've seen some people on Kaggle use a person's title as a better indication of their socio-economic class. These titles can be extracted from the 'Name' variable."
   ]
  },
  {
   "cell_type": "code",
   "execution_count": 10,
   "metadata": {
    "collapsed": false
   },
   "outputs": [
    {
     "name": "stdout",
     "output_type": "stream",
     "text": [
      "\n",
      "        Capt          Col          Don         Dona           Dr     Jonkheer \n",
      "           1            4            1            1            8            1 \n",
      "        Lady        Major       Master         Miss         Mlle          Mme \n",
      "           1            2           61          260            2            1 \n",
      "          Mr          Mrs           Ms          Rev          Sir the Countess \n",
      "         757          197            2            8            1            1 \n"
     ]
    }
   ],
   "source": [
    "comb$Title <- gsub('(.*, )|(\\\\..*$)', '', comb$Name) #regex\n",
    "print(table(comb$Title))"
   ]
  },
  {
   "cell_type": "markdown",
   "metadata": {},
   "source": [
    "Most of these make sense, though there are a few I'm not familiar with (namely 'Don', 'Dona', and 'Jonkheer'). A quick Google search shows that 'Don' and 'Dona' are Spanish honorifics while 'Jonkheer' is a Dutch honorific.\n",
    "\n",
    "Let's combine 'Mlle' with 'Ms' and 'Mme' with 'Mrs' to make our lives easier."
   ]
  },
  {
   "cell_type": "code",
   "execution_count": 11,
   "metadata": {
    "collapsed": true
   },
   "outputs": [],
   "source": [
    "comb$Title[comb$Title=='Mlle'] <- 'Ms'\n",
    "comb$Title[comb$Title=='Mme'] <- 'Mrs'"
   ]
  },
  {
   "cell_type": "markdown",
   "metadata": {},
   "source": [
    "We can also say that 'Sir,' 'Jonkheer,' and 'Don' all refer to some male noble. Similarly, 'the Countess' and 'Dona' seem to just be variants of 'Lady.'"
   ]
  },
  {
   "cell_type": "code",
   "execution_count": 12,
   "metadata": {
    "collapsed": true
   },
   "outputs": [],
   "source": [
    "comb$Title[comb$Title=='Jonkheer' | comb$Title=='Don'] <- 'Sir'\n",
    "comb$Title[comb$Title=='the Countess' | comb$Title=='Dona'] <- 'Lady'"
   ]
  },
  {
   "cell_type": "code",
   "execution_count": 13,
   "metadata": {
    "collapsed": false
   },
   "outputs": [
    {
     "name": "stdout",
     "output_type": "stream",
     "text": [
      "\n",
      "  Capt    Col     Dr   Lady  Major Master   Miss     Mr    Mrs     Ms    Rev \n",
      "     1      4      8      3      2     61    260    757    198      4      8 \n",
      "   Sir \n",
      "     3 \n"
     ]
    }
   ],
   "source": [
    "print(table(comb$Title))"
   ]
  },
  {
   "cell_type": "markdown",
   "metadata": {},
   "source": [
    "I'm going to make another level of Title known as 'Rare' similar to what other Kagglers have done."
   ]
  },
  {
   "cell_type": "code",
   "execution_count": 14,
   "metadata": {
    "collapsed": true
   },
   "outputs": [],
   "source": [
    "comb$Title[comb$Title=='Capt'] <- 'Rare'\n",
    "comb$Title[comb$Title=='Col'] <- 'Rare'\n",
    "comb$Title[comb$Title=='Dr'] <- 'Rare'\n",
    "comb$Title[comb$Title=='Major'] <- 'Rare'\n",
    "comb$Title[comb$Title=='Rev'] <- 'Rare'"
   ]
  },
  {
   "cell_type": "markdown",
   "metadata": {},
   "source": [
    "Alright, that's good enough for now."
   ]
  },
  {
   "cell_type": "code",
   "execution_count": 15,
   "metadata": {
    "collapsed": true
   },
   "outputs": [],
   "source": [
    "comb$Title <- as.factor(comb$Title)"
   ]
  },
  {
   "cell_type": "markdown",
   "metadata": {},
   "source": [
    "<h1>4 Family</h1>\n",
    "\n",
    "The 'SibSp' and 'Parch' variables seem like they'd be useful metrics for family size. The number of family members likely had an effect on survival rate, as parents are not very likely to abandon their children and vice versa. "
   ]
  },
  {
   "cell_type": "code",
   "execution_count": 16,
   "metadata": {
    "collapsed": false
   },
   "outputs": [
    {
     "data": {
      "text/plain": [
       "\n",
       "  1   2   3   4   5   6   7   8  11 \n",
       "790 235 159  43  22  25  16   8  11 "
      ]
     },
     "metadata": {},
     "output_type": "display_data"
    }
   ],
   "source": [
    "# total family size is number of siblings/spouses + number of parents/children + 1\n",
    "comb$FamilySize <- 0\n",
    "comb$FamilySize <- comb$SibSp + comb$Parch + 1\n",
    "table(comb$FamilySize)"
   ]
  },
  {
   "cell_type": "markdown",
   "metadata": {},
   "source": [
    "Looks like a majority of people were alone on the voyage. What were the survival rates of those we know about?"
   ]
  },
  {
   "cell_type": "code",
   "execution_count": 17,
   "metadata": {
    "collapsed": false
   },
   "outputs": [
    {
     "data": {
      "text/plain": [
       "\n",
       "  1   2   3   4   5   6   7   8  11 \n",
       "537 161 102  29  15  22  12   6   7 "
      ]
     },
     "metadata": {},
     "output_type": "display_data"
    }
   ],
   "source": [
    "train$FamilySize <- 0\n",
    "train$FamilySize <- train$SibSp + train$Parch + 1\n",
    "table(train$FamilySize)"
   ]
  },
  {
   "cell_type": "code",
   "execution_count": 18,
   "metadata": {
    "collapsed": false
   },
   "outputs": [
    {
     "data": {},
     "metadata": {},
     "output_type": "display_data"
    },
    {
     "data": {
      "image/png": "[encoded data removed]",
      "text/plain": [
       "plot without title"
      ]
     },
     "metadata": {},
     "output_type": "display_data"
    }
   ],
   "source": [
    "fam_surv_df <- data.frame(table(train$FamilySize, train$Survived))\n",
    "colnames(fam_surv_df) <- c(\"Size\", \"Survived\", \"Count\")\n",
    "ggplot(fam_surv_df, aes(x=Size, y=Count, fill=Survived)) +\n",
    "    geom_bar(stat=\"identity\", position=\"dodge\") +\n",
    "    scale_fill_discrete(name=\"Survival\", breaks=c(1, 0), labels=c(\"True\", \"False\"))"
   ]
  },
  {
   "cell_type": "markdown",
   "metadata": {},
   "source": [
    "Single passengers and passengers with large families had lower survival rates than passengers with small families. Interesting."
   ]
  },
  {
   "cell_type": "code",
   "execution_count": 19,
   "metadata": {
    "collapsed": true
   },
   "outputs": [],
   "source": [
    "comb$FamilySize <- as.factor(comb$FamilySize)"
   ]
  },
  {
   "cell_type": "markdown",
   "metadata": {},
   "source": [
    "<h1>5 Embarkation</h1>\n",
    "\n",
    "I doubt that from where a passenger embarked had much impact on their survival, but let's look at it anyway."
   ]
  },
  {
   "cell_type": "code",
   "execution_count": 20,
   "metadata": {
    "collapsed": false
   },
   "outputs": [
    {
     "data": {
      "text/plain": [
       "\n",
       "      C   Q   S \n",
       "  2 270 123 914 "
      ]
     },
     "metadata": {},
     "output_type": "display_data"
    }
   ],
   "source": [
    "table(comb$Embarked)"
   ]
  },
  {
   "cell_type": "markdown",
   "metadata": {},
   "source": [
    "Uh oh. Looks like two passengers don't have recorded embarkation points. Which two?"
   ]
  },
  {
   "cell_type": "code",
   "execution_count": 21,
   "metadata": {
    "collapsed": false
   },
   "outputs": [
    {
     "data": {
      "text/html": [
       "<table>\n",
       "<thead><tr><th></th><th scope=col>PassengerId</th><th scope=col>Survived</th><th scope=col>Pclass</th><th scope=col>Name</th><th scope=col>Sex</th><th scope=col>Age</th><th scope=col>SibSp</th><th scope=col>Parch</th><th scope=col>Ticket</th><th scope=col>Fare</th><th scope=col>Cabin</th><th scope=col>Embarked</th><th scope=col>Title</th><th scope=col>FamilySize</th></tr></thead>\n",
       "<tbody>\n",
       "\t<tr><th scope=row>62</th><td>62                 </td><td>1                  </td><td>1                  </td><td>Icard, Miss. Amelie</td><td>female             </td><td>38                 </td><td>0                  </td><td>0                  </td><td>113572             </td><td>80                 </td><td>B28                </td><td>                   </td><td>Miss               </td><td>1                  </td></tr>\n",
       "\t<tr><th scope=row>830</th><td>830                                      </td><td>1                                        </td><td>1                                        </td><td>Stone, Mrs. George Nelson (Martha Evelyn)</td><td>female                                   </td><td>62                                       </td><td>0                                        </td><td>0                                        </td><td>113572                                   </td><td>80                                       </td><td>B28                                      </td><td>                                         </td><td>Mrs                                      </td><td>1                                        </td></tr>\n",
       "</tbody>\n",
       "</table>\n"
      ],
      "text/latex": [
       "\\begin{tabular}{r|llllllllllllll}\n",
       "  & PassengerId & Survived & Pclass & Name & Sex & Age & SibSp & Parch & Ticket & Fare & Cabin & Embarked & Title & FamilySize\\\\\n",
       "\\hline\n",
       "\t62 & 62                  & 1                   & 1                   & Icard, Miss. Amelie & female              & 38                  & 0                   & 0                   & 113572              & 80                  & B28                 &                     & Miss                & 1                  \\\\\n",
       "\t830 & 830                                       & 1                                         & 1                                         & Stone, Mrs. George Nelson (Martha Evelyn) & female                                    & 62                                        & 0                                         & 0                                         & 113572                                    & 80                                        & B28                                       &                                           & Mrs                                       & 1                                        \\\\\n",
       "\\end{tabular}\n"
      ],
      "text/plain": [
       "    PassengerId Survived Pclass                                      Name\n",
       "62           62        1      1                       Icard, Miss. Amelie\n",
       "830         830        1      1 Stone, Mrs. George Nelson (Martha Evelyn)\n",
       "       Sex Age SibSp Parch Ticket Fare Cabin Embarked Title FamilySize\n",
       "62  female  38     0     0 113572   80   B28           Miss          1\n",
       "830 female  62     0     0 113572   80   B28            Mrs          1"
      ]
     },
     "metadata": {},
     "output_type": "display_data"
    }
   ],
   "source": [
    "rbind(comb[which(comb$Embarked==\"\"),])"
   ]
  },
  {
   "cell_type": "markdown",
   "metadata": {},
   "source": [
    "Looks like Mrs. Stone and her maid don't have embarkation data. From a quick search, it looks like they boarded at Southhampton."
   ]
  },
  {
   "cell_type": "code",
   "execution_count": 22,
   "metadata": {
    "collapsed": false
   },
   "outputs": [],
   "source": [
    "comb$Embarked[62] <- 'S'\n",
    "comb$Embarked[830] <- 'S'\n",
    "\n",
    "comb$Embarked <- as.factor(comb$Embarked)"
   ]
  },
  {
   "cell_type": "markdown",
   "metadata": {},
   "source": [
    "<h1>6 Age</h1>\n",
    "\n",
    "From the head of the combined data we can already see an 'NA' age. Just how many age values are missing?"
   ]
  },
  {
   "cell_type": "code",
   "execution_count": 23,
   "metadata": {
    "collapsed": false
   },
   "outputs": [
    {
     "name": "stdout",
     "output_type": "stream",
     "text": [
      "[1] 263\n"
     ]
    }
   ],
   "source": [
    "print(length(which(is.na(comb$Age))))"
   ]
  },
  {
   "cell_type": "markdown",
   "metadata": {},
   "source": [
    "Okay. We can deal with that. I would guess age is most correlated with FamilySize and Title."
   ]
  },
  {
   "cell_type": "code",
   "execution_count": 24,
   "metadata": {
    "collapsed": false
   },
   "outputs": [],
   "source": [
    "set.seed(63)\n",
    "\n",
    "age_pred <- rpart(Age ~ Pclass + SibSp + Parch + Fare + Title,\n",
    "                         data=comb[!is.na(comb$Age),],\n",
    "                         method='anova')\n"
   ]
  },
  {
   "cell_type": "code",
   "execution_count": 25,
   "metadata": {
    "collapsed": false,
    "scrolled": true
   },
   "outputs": [
    {
     "data": {
      "text/plain": [
       "age_fill\n",
       "  7  18  22  28  31  33  42 \n",
       " 12   5  39 152   3  14  38 "
      ]
     },
     "metadata": {},
     "output_type": "display_data"
    }
   ],
   "source": [
    "age_fill <- floor(predict(age_pred, comb[is.na(comb$Age),]))\n",
    "table(age_fill)\n",
    "comb$Age[is.na(comb$Age)] <- age_fill"
   ]
  },
  {
   "cell_type": "markdown",
   "metadata": {},
   "source": [
    "<h1>7 Cabin</h1>\n",
    "\n",
    "From a look at the head we can see that there are a lot of 'Cabin' data missing. Just how much are we (not) looking at?"
   ]
  },
  {
   "cell_type": "code",
   "execution_count": 26,
   "metadata": {
    "collapsed": false
   },
   "outputs": [
    {
     "name": "stdout",
     "output_type": "stream",
     "text": [
      "[1] 0.7746371\n"
     ]
    }
   ],
   "source": [
    "print(length(which(comb$Cabin==\"\"))/length(comb$Cabin))"
   ]
  },
  {
   "cell_type": "markdown",
   "metadata": {},
   "source": [
    "Uh... wow. 77.5% of the cabin data are missing. What can we do about that?\n",
    "\n",
    "<h2>7.1 Cabin Letters</h2>\n",
    "\n",
    "I found a site that mentions that, roughly speaking, the farther along in the alphabet your cabin was, the lower class you were. Let's see if there's any merit to that.\n",
    "\n",
    "http://home.online.nl/john.vanderree/cabins.htm"
   ]
  },
  {
   "cell_type": "code",
   "execution_count": 27,
   "metadata": {
    "collapsed": false
   },
   "outputs": [],
   "source": [
    "# those who have valid cabin data\n",
    "comb$CabinLet <- ''\n",
    "\n",
    "# extract the letter of the cabin rather than letter + number\n",
    "comb$CabinLet <- gsub('([0-9]*$)|(^[A-Z][0-9]*.* )', '', comb$Cabin)"
   ]
  },
  {
   "cell_type": "code",
   "execution_count": 28,
   "metadata": {
    "collapsed": false
   },
   "outputs": [
    {
     "data": {
      "text/html": [
       "<table>\n",
       "<thead><tr><th></th><th scope=col>PassengerId</th><th scope=col>Survived</th><th scope=col>Pclass</th><th scope=col>Name</th><th scope=col>Sex</th><th scope=col>Age</th><th scope=col>SibSp</th><th scope=col>Parch</th><th scope=col>Ticket</th><th scope=col>Fare</th><th scope=col>Cabin</th><th scope=col>Embarked</th><th scope=col>Title</th><th scope=col>FamilySize</th><th scope=col>CabinLet</th></tr></thead>\n",
       "<tbody>\n",
       "\t<tr><th scope=row>1</th><td>1                      </td><td>0                      </td><td>3                      </td><td>Braund, Mr. Owen Harris</td><td>male                   </td><td>22                     </td><td>1                      </td><td>0                      </td><td>A/5 21171              </td><td>7.25                   </td><td>                       </td><td>S                      </td><td>Mr                     </td><td>2                      </td><td>                       </td></tr>\n",
       "\t<tr><th scope=row>2</th><td>2                                                  </td><td>1                                                  </td><td>1                                                  </td><td>Cumings, Mrs. John Bradley (Florence Briggs Thayer)</td><td>female                                             </td><td>38                                                 </td><td>1                                                  </td><td>0                                                  </td><td>PC 17599                                           </td><td>71.2833                                            </td><td>C85                                                </td><td>C                                                  </td><td>Mrs                                                </td><td>2                                                  </td><td>C                                                  </td></tr>\n",
       "\t<tr><th scope=row>3</th><td>3                     </td><td>1                     </td><td>3                     </td><td>Heikkinen, Miss. Laina</td><td>female                </td><td>26                    </td><td>0                     </td><td>0                     </td><td>STON/O2. 3101282      </td><td>7.925                 </td><td>                      </td><td>S                     </td><td>Miss                  </td><td>1                     </td><td>                      </td></tr>\n",
       "\t<tr><th scope=row>4</th><td>4                                           </td><td>1                                           </td><td>1                                           </td><td>Futrelle, Mrs. Jacques Heath (Lily May Peel)</td><td>female                                      </td><td>35                                          </td><td>1                                           </td><td>0                                           </td><td>113803                                      </td><td>53.1                                        </td><td>C123                                        </td><td>S                                           </td><td>Mrs                                         </td><td>2                                           </td><td>C                                           </td></tr>\n",
       "\t<tr><th scope=row>5</th><td>5                       </td><td>0                       </td><td>3                       </td><td>Allen, Mr. William Henry</td><td>male                    </td><td>35                      </td><td>0                       </td><td>0                       </td><td>373450                  </td><td>8.05                    </td><td>                        </td><td>S                       </td><td>Mr                      </td><td>1                       </td><td>                        </td></tr>\n",
       "\t<tr><th scope=row>6</th><td>6               </td><td>0               </td><td>3               </td><td>Moran, Mr. James</td><td>male            </td><td>28              </td><td>0               </td><td>0               </td><td>330877          </td><td>8.4583          </td><td>                </td><td>Q               </td><td>Mr              </td><td>1               </td><td>                </td></tr>\n",
       "</tbody>\n",
       "</table>\n"
      ],
      "text/latex": [
       "\\begin{tabular}{r|lllllllllllllll}\n",
       "  & PassengerId & Survived & Pclass & Name & Sex & Age & SibSp & Parch & Ticket & Fare & Cabin & Embarked & Title & FamilySize & CabinLet\\\\\n",
       "\\hline\n",
       "\t1 & 1                       & 0                       & 3                       & Braund, Mr. Owen Harris & male                    & 22                      & 1                       & 0                       & A/5 21171               & 7.25                    &                         & S                       & Mr                      & 2                       &                        \\\\\n",
       "\t2 & 2                                                   & 1                                                   & 1                                                   & Cumings, Mrs. John Bradley (Florence Briggs Thayer) & female                                              & 38                                                  & 1                                                   & 0                                                   & PC 17599                                            & 71.2833                                             & C85                                                 & C                                                   & Mrs                                                 & 2                                                   & C                                                  \\\\\n",
       "\t3 & 3                      & 1                      & 3                      & Heikkinen, Miss. Laina & female                 & 26                     & 0                      & 0                      & STON/O2. 3101282       & 7.925                  &                        & S                      & Miss                   & 1                      &                       \\\\\n",
       "\t4 & 4                                            & 1                                            & 1                                            & Futrelle, Mrs. Jacques Heath (Lily May Peel) & female                                       & 35                                           & 1                                            & 0                                            & 113803                                       & 53.1                                         & C123                                         & S                                            & Mrs                                          & 2                                            & C                                           \\\\\n",
       "\t5 & 5                        & 0                        & 3                        & Allen, Mr. William Henry & male                     & 35                       & 0                        & 0                        & 373450                   & 8.05                     &                          & S                        & Mr                       & 1                        &                         \\\\\n",
       "\t6 & 6                & 0                & 3                & Moran, Mr. James & male             & 28               & 0                & 0                & 330877           & 8.4583           &                  & Q                & Mr               & 1                &                 \\\\\n",
       "\\end{tabular}\n"
      ],
      "text/plain": [
       "  PassengerId Survived Pclass\n",
       "1           1        0      3\n",
       "2           2        1      1\n",
       "3           3        1      3\n",
       "4           4        1      1\n",
       "5           5        0      3\n",
       "6           6        0      3\n",
       "                                                 Name    Sex Age SibSp Parch\n",
       "1                             Braund, Mr. Owen Harris   male  22     1     0\n",
       "2 Cumings, Mrs. John Bradley (Florence Briggs Thayer) female  38     1     0\n",
       "3                              Heikkinen, Miss. Laina female  26     0     0\n",
       "4        Futrelle, Mrs. Jacques Heath (Lily May Peel) female  35     1     0\n",
       "5                            Allen, Mr. William Henry   male  35     0     0\n",
       "6                                    Moran, Mr. James   male  28     0     0\n",
       "            Ticket    Fare Cabin Embarked Title FamilySize CabinLet\n",
       "1        A/5 21171  7.2500              S    Mr          2         \n",
       "2         PC 17599 71.2833   C85        C   Mrs          2        C\n",
       "3 STON/O2. 3101282  7.9250              S  Miss          1         \n",
       "4           113803 53.1000  C123        S   Mrs          2        C\n",
       "5           373450  8.0500              S    Mr          1         \n",
       "6           330877  8.4583              Q    Mr          1         "
      ]
     },
     "metadata": {},
     "output_type": "display_data"
    }
   ],
   "source": [
    "head(comb)"
   ]
  },
  {
   "cell_type": "markdown",
   "metadata": {},
   "source": [
    "Let's plot cabin letter vs. class"
   ]
  },
  {
   "cell_type": "code",
   "execution_count": 29,
   "metadata": {
    "collapsed": false
   },
   "outputs": [
    {
     "data": {
      "text/plain": [
       "   \n",
       "          A   B   C   D   E   F   G   T\n",
       "  1  67  22  65  94  40  34   0   0   1\n",
       "  2 254   0   0   0   6   4  13   0   0\n",
       "  3 693   0   0   0   0   6   1   9   0"
      ]
     },
     "metadata": {},
     "output_type": "display_data"
    }
   ],
   "source": [
    "table(comb$Pclass, comb$CabinLet)"
   ]
  },
  {
   "cell_type": "markdown",
   "metadata": {},
   "source": [
    "Drat. It looks like we have mostly data for those in first class. Maybe we can find a relationship between fare and cabin?"
   ]
  },
  {
   "cell_type": "code",
   "execution_count": 30,
   "metadata": {
    "collapsed": false
   },
   "outputs": [
    {
     "data": {
      "text/plain": [
       "   Min. 1st Qu.  Median    Mean 3rd Qu.    Max.    NA's \n",
       "  0.000   7.896  14.450  33.300  31.280 512.300       1 "
      ]
     },
     "metadata": {},
     "output_type": "display_data"
    }
   ],
   "source": [
    "summary(comb$Fare)"
   ]
  },
  {
   "cell_type": "markdown",
   "metadata": {},
   "source": [
    "Looks like we have one 'NA.' Which passenger was it?"
   ]
  },
  {
   "cell_type": "code",
   "execution_count": 31,
   "metadata": {
    "collapsed": false
   },
   "outputs": [
    {
     "data": {
      "text/html": [
       "<table>\n",
       "<thead><tr><th></th><th scope=col>PassengerId</th><th scope=col>Survived</th><th scope=col>Pclass</th><th scope=col>Name</th><th scope=col>Sex</th><th scope=col>Age</th><th scope=col>SibSp</th><th scope=col>Parch</th><th scope=col>Ticket</th><th scope=col>Fare</th><th scope=col>Cabin</th><th scope=col>Embarked</th><th scope=col>Title</th><th scope=col>FamilySize</th><th scope=col>CabinLet</th></tr></thead>\n",
       "<tbody>\n",
       "\t<tr><th scope=row>1044</th><td>1044              </td><td>0                 </td><td>3                 </td><td>Storey, Mr. Thomas</td><td>male              </td><td>60.5              </td><td>0                 </td><td>0                 </td><td>3701              </td><td>NA                </td><td>                  </td><td>S                 </td><td>Mr                </td><td>1                 </td><td>                  </td></tr>\n",
       "</tbody>\n",
       "</table>\n"
      ],
      "text/latex": [
       "\\begin{tabular}{r|lllllllllllllll}\n",
       "  & PassengerId & Survived & Pclass & Name & Sex & Age & SibSp & Parch & Ticket & Fare & Cabin & Embarked & Title & FamilySize & CabinLet\\\\\n",
       "\\hline\n",
       "\t1044 & 1044               & 0                  & 3                  & Storey, Mr. Thomas & male               & 60.5               & 0                  & 0                  & 3701               & NA                 &                    & S                  & Mr                 & 1                  &                   \\\\\n",
       "\\end{tabular}\n"
      ],
      "text/plain": [
       "     PassengerId Survived Pclass               Name  Sex  Age SibSp Parch\n",
       "1044        1044        0      3 Storey, Mr. Thomas male 60.5     0     0\n",
       "     Ticket Fare Cabin Embarked Title FamilySize CabinLet\n",
       "1044   3701   NA              S    Mr          1         "
      ]
     },
     "metadata": {},
     "output_type": "display_data"
    }
   ],
   "source": [
    "comb[is.na(comb$Fare),]"
   ]
  },
  {
   "cell_type": "markdown",
   "metadata": {},
   "source": [
    "Let's just say Mr. Stoney's fare was the median fare for 3rd class goers."
   ]
  },
  {
   "cell_type": "code",
   "execution_count": 32,
   "metadata": {
    "collapsed": false
   },
   "outputs": [],
   "source": [
    "comb$Fare[is.na(comb$Fare)] <- median(comb$Fare[comb$Pclass==3], na.rm=T)"
   ]
  },
  {
   "cell_type": "markdown",
   "metadata": {},
   "source": [
    "Now let's look at cabin letter by fare."
   ]
  },
  {
   "cell_type": "code",
   "execution_count": 33,
   "metadata": {
    "collapsed": false
   },
   "outputs": [
    {
     "data": {
      "text/html": [
       "<table>\n",
       "<thead><tr><th></th><th scope=col>Cabin</th><th scope=col>Median Fare</th></tr></thead>\n",
       "<tbody>\n",
       "\t<tr><th scope=row>1</th><td>A      </td><td>35.0771</td></tr>\n",
       "\t<tr><th scope=row>2</th><td>B      </td><td>82.2667</td></tr>\n",
       "\t<tr><th scope=row>3</th><td>C      </td><td>86.2896</td></tr>\n",
       "\t<tr><th scope=row>4</th><td>D      </td><td>52.5542</td></tr>\n",
       "\t<tr><th scope=row>5</th><td>E       </td><td>52.48125</td></tr>\n",
       "\t<tr><th scope=row>6</th><td>F   </td><td>19.5</td></tr>\n",
       "\t<tr><th scope=row>7</th><td>G      </td><td>10.4625</td></tr>\n",
       "\t<tr><th scope=row>8</th><td>T   </td><td>35.5</td></tr>\n",
       "</tbody>\n",
       "</table>\n"
      ],
      "text/latex": [
       "\\begin{tabular}{r|ll}\n",
       "  & Cabin & Median Fare\\\\\n",
       "\\hline\n",
       "\t1 & A       & 35.0771\\\\\n",
       "\t2 & B       & 82.2667\\\\\n",
       "\t3 & C       & 86.2896\\\\\n",
       "\t4 & D       & 52.5542\\\\\n",
       "\t5 & E        & 52.48125\\\\\n",
       "\t6 & F    & 19.5\\\\\n",
       "\t7 & G       & 10.4625\\\\\n",
       "\t8 & T    & 35.5\\\\\n",
       "\\end{tabular}\n"
      ],
      "text/plain": [
       "  Cabin Median Fare\n",
       "1     A    35.07710\n",
       "2     B    82.26670\n",
       "3     C    86.28960\n",
       "4     D    52.55420\n",
       "5     E    52.48125\n",
       "6     F    19.50000\n",
       "7     G    10.46250\n",
       "8     T    35.50000"
      ]
     },
     "metadata": {},
     "output_type": "display_data"
    },
    {
     "data": {},
     "metadata": {},
     "output_type": "display_data"
    },
    {
     "data": {
      "image/png": "[encoded data removed]",
      "text/plain": [
       "plot without title"
      ]
     },
     "metadata": {},
     "output_type": "display_data"
    }
   ],
   "source": [
    "cabin_fare_med <- aggregate(comb$Fare[comb$CabinLet!=''], \n",
    "                            by=list(as.factor(comb$CabinLet[comb$CabinLet!=''])), \n",
    "                            FUN='median')\n",
    "\n",
    "colnames(cabin_fare_med) <- c('Cabin', 'Median Fare')\n",
    "\n",
    "cabin_fare_med\n",
    "\n",
    "ggplot(data=comb[comb$Cabin!='',], aes(x=as.factor(CabinLet), y=Fare)) +\n",
    "    geom_boxplot() +\n",
    "    xlab('Cabin Letter')\n"
   ]
  },
  {
   "cell_type": "markdown",
   "metadata": {},
   "source": [
    "Okay, that's useful. Looks like in general, earlier letters have higher fares. One thing to note is that there is only one person from a 'T' cabin. Seeing as his fare was about the same as the median fare for A, I'm just going to lump him in with the 'A' cabin denizens.\n",
    "\n",
    "For the passengers with missing cabin data, what I'll do is look at the fare and class and see if I can't predict what cabin they were in."
   ]
  },
  {
   "cell_type": "code",
   "execution_count": 34,
   "metadata": {
    "collapsed": true
   },
   "outputs": [],
   "source": [
    "comb$CabinLet[comb$CabinLet=='T'] <- 'A'"
   ]
  },
  {
   "cell_type": "markdown",
   "metadata": {},
   "source": [
    "<h2>7.2 Predicting Cabin</h2>\n",
    "\n"
   ]
  },
  {
   "cell_type": "markdown",
   "metadata": {},
   "source": [
    "I'm going to try to use random forest to predict the cabin."
   ]
  },
  {
   "cell_type": "code",
   "execution_count": 35,
   "metadata": {
    "collapsed": false
   },
   "outputs": [
    {
     "data": {
      "text/plain": [
       "cabin_fill\n",
       "  A   B   C   D   E   F   G \n",
       "  3  16  36  77 256 301 325 "
      ]
     },
     "metadata": {},
     "output_type": "display_data"
    }
   ],
   "source": [
    "cabin_pred2 <- randomForest(as.factor(CabinLet) ~ Age + Pclass + Fare + Sex + FamilySize + Title,\n",
    "                data=comb[comb$Cabin!='',],\n",
    "                importance=T)\n",
    "cabin_fill <- predict(cabin_pred2, comb[comb$CabinLet=='',])\n",
    "\n",
    "table(cabin_fill)"
   ]
  },
  {
   "cell_type": "markdown",
   "metadata": {},
   "source": [
    "There are a lot of E, F, and G cabins here. I'm guessing that's because most passengers were lower class. One crucial thing to note is that the training data for this set (passengers with recorded Cabin data) were skewed towards the higher class. As a result, there is not much to go on for lower class passengers. I may end up scrapping these cabin predictions if the survival predictions turn out wonky."
   ]
  },
  {
   "cell_type": "code",
   "execution_count": 36,
   "metadata": {
    "collapsed": false
   },
   "outputs": [
    {
     "data": {
      "text/html": [
       "<table>\n",
       "<thead><tr><th></th><th scope=col>PassengerId</th><th scope=col>Survived</th><th scope=col>Pclass</th><th scope=col>Name</th><th scope=col>Sex</th><th scope=col>Age</th><th scope=col>SibSp</th><th scope=col>Parch</th><th scope=col>Ticket</th><th scope=col>Fare</th><th scope=col>Cabin</th><th scope=col>Embarked</th><th scope=col>Title</th><th scope=col>FamilySize</th><th scope=col>CabinLet</th></tr></thead>\n",
       "<tbody>\n",
       "\t<tr><th scope=row>1</th><td>1                      </td><td>0                      </td><td>3                      </td><td>Braund, Mr. Owen Harris</td><td>male                   </td><td>22                     </td><td>1                      </td><td>0                      </td><td>A/5 21171              </td><td>7.25                   </td><td>                       </td><td>S                      </td><td>Mr                     </td><td>2                      </td><td>E                      </td></tr>\n",
       "\t<tr><th scope=row>2</th><td>2                                                  </td><td>1                                                  </td><td>1                                                  </td><td>Cumings, Mrs. John Bradley (Florence Briggs Thayer)</td><td>female                                             </td><td>38                                                 </td><td>1                                                  </td><td>0                                                  </td><td>PC 17599                                           </td><td>71.2833                                            </td><td>C85                                                </td><td>C                                                  </td><td>Mrs                                                </td><td>2                                                  </td><td>C                                                  </td></tr>\n",
       "\t<tr><th scope=row>3</th><td>3                     </td><td>1                     </td><td>3                     </td><td>Heikkinen, Miss. Laina</td><td>female                </td><td>26                    </td><td>0                     </td><td>0                     </td><td>STON/O2. 3101282      </td><td>7.925                 </td><td>                      </td><td>S                     </td><td>Miss                  </td><td>1                     </td><td>G                     </td></tr>\n",
       "\t<tr><th scope=row>4</th><td>4                                           </td><td>1                                           </td><td>1                                           </td><td>Futrelle, Mrs. Jacques Heath (Lily May Peel)</td><td>female                                      </td><td>35                                          </td><td>1                                           </td><td>0                                           </td><td>113803                                      </td><td>53.1                                        </td><td>C123                                        </td><td>S                                           </td><td>Mrs                                         </td><td>2                                           </td><td>C                                           </td></tr>\n",
       "\t<tr><th scope=row>5</th><td>5                       </td><td>0                       </td><td>3                       </td><td>Allen, Mr. William Henry</td><td>male                    </td><td>35                      </td><td>0                       </td><td>0                       </td><td>373450                  </td><td>8.05                    </td><td>                        </td><td>S                       </td><td>Mr                      </td><td>1                       </td><td>E                       </td></tr>\n",
       "\t<tr><th scope=row>6</th><td>6               </td><td>0               </td><td>3               </td><td>Moran, Mr. James</td><td>male            </td><td>28              </td><td>0               </td><td>0               </td><td>330877          </td><td>8.4583          </td><td>                </td><td>Q               </td><td>Mr              </td><td>1               </td><td>E               </td></tr>\n",
       "</tbody>\n",
       "</table>\n"
      ],
      "text/latex": [
       "\\begin{tabular}{r|lllllllllllllll}\n",
       "  & PassengerId & Survived & Pclass & Name & Sex & Age & SibSp & Parch & Ticket & Fare & Cabin & Embarked & Title & FamilySize & CabinLet\\\\\n",
       "\\hline\n",
       "\t1 & 1                       & 0                       & 3                       & Braund, Mr. Owen Harris & male                    & 22                      & 1                       & 0                       & A/5 21171               & 7.25                    &                         & S                       & Mr                      & 2                       & E                      \\\\\n",
       "\t2 & 2                                                   & 1                                                   & 1                                                   & Cumings, Mrs. John Bradley (Florence Briggs Thayer) & female                                              & 38                                                  & 1                                                   & 0                                                   & PC 17599                                            & 71.2833                                             & C85                                                 & C                                                   & Mrs                                                 & 2                                                   & C                                                  \\\\\n",
       "\t3 & 3                      & 1                      & 3                      & Heikkinen, Miss. Laina & female                 & 26                     & 0                      & 0                      & STON/O2. 3101282       & 7.925                  &                        & S                      & Miss                   & 1                      & G                     \\\\\n",
       "\t4 & 4                                            & 1                                            & 1                                            & Futrelle, Mrs. Jacques Heath (Lily May Peel) & female                                       & 35                                           & 1                                            & 0                                            & 113803                                       & 53.1                                         & C123                                         & S                                            & Mrs                                          & 2                                            & C                                           \\\\\n",
       "\t5 & 5                        & 0                        & 3                        & Allen, Mr. William Henry & male                     & 35                       & 0                        & 0                        & 373450                   & 8.05                     &                          & S                        & Mr                       & 1                        & E                       \\\\\n",
       "\t6 & 6                & 0                & 3                & Moran, Mr. James & male             & 28               & 0                & 0                & 330877           & 8.4583           &                  & Q                & Mr               & 1                & E               \\\\\n",
       "\\end{tabular}\n"
      ],
      "text/plain": [
       "  PassengerId Survived Pclass\n",
       "1           1        0      3\n",
       "2           2        1      1\n",
       "3           3        1      3\n",
       "4           4        1      1\n",
       "5           5        0      3\n",
       "6           6        0      3\n",
       "                                                 Name    Sex Age SibSp Parch\n",
       "1                             Braund, Mr. Owen Harris   male  22     1     0\n",
       "2 Cumings, Mrs. John Bradley (Florence Briggs Thayer) female  38     1     0\n",
       "3                              Heikkinen, Miss. Laina female  26     0     0\n",
       "4        Futrelle, Mrs. Jacques Heath (Lily May Peel) female  35     1     0\n",
       "5                            Allen, Mr. William Henry   male  35     0     0\n",
       "6                                    Moran, Mr. James   male  28     0     0\n",
       "            Ticket    Fare Cabin Embarked Title FamilySize CabinLet\n",
       "1        A/5 21171  7.2500              S    Mr          2        E\n",
       "2         PC 17599 71.2833   C85        C   Mrs          2        C\n",
       "3 STON/O2. 3101282  7.9250              S  Miss          1        G\n",
       "4           113803 53.1000  C123        S   Mrs          2        C\n",
       "5           373450  8.0500              S    Mr          1        E\n",
       "6           330877  8.4583              Q    Mr          1        E"
      ]
     },
     "metadata": {},
     "output_type": "display_data"
    }
   ],
   "source": [
    "comb$CabinLet <- as.factor(comb$CabinLet)\n",
    "comb$CabinLet[comb$CabinLet==''] <- cabin_fill\n",
    "head(comb)"
   ]
  },
  {
   "cell_type": "markdown",
   "metadata": {},
   "source": [
    "<h1>8 Survival Prediction</h1>\n",
    "\n",
    "I think I can try a prediction now."
   ]
  },
  {
   "cell_type": "code",
   "execution_count": 37,
   "metadata": {
    "collapsed": false
   },
   "outputs": [],
   "source": [
    "train_new <- comb[0:891,]\n",
    "test_new <- comb[-(0:891),]\n",
    "\n",
    "surv_rf <- randomForest(as.factor(Survived) ~ Pclass + Sex + SibSp + Parch + Fare + \n",
    "                            Embarked + Title + FamilySize + CabinLet,\n",
    "                        data=train_new,\n",
    "                        importance=T)\n",
    "\n",
    "surv_fill <- predict(surv_rf, test_new)\n",
    "surv_df <- data.frame(test$PassengerId, surv_fill)\n",
    "colnames(surv_df) <- c('PassengerId', 'Survived')\n",
    "write.csv(surv_df, file='soln1.csv', row.names=F)"
   ]
  },
  {
   "cell_type": "markdown",
   "metadata": {},
   "source": [
    "This one scored 0.77 which is less than before. Disappointing but I learned a whole lot more doing this one than the tutorial, so I see it is a net gain.\n",
    "\n",
    "Going to drop CabinLet and see what happens."
   ]
  },
  {
   "cell_type": "code",
   "execution_count": 38,
   "metadata": {
    "collapsed": true
   },
   "outputs": [],
   "source": [
    "surv_rf2 <- randomForest(as.factor(Survived) ~ Pclass + Sex + SibSp + Parch + Fare + \n",
    "                            Embarked + Title + FamilySize,\n",
    "                        data=train_new,\n",
    "                        importance=T)\n",
    "\n",
    "surv_fill2 <- predict(surv_rf2, test_new)\n",
    "surv_df2 <- data.frame(test$PassengerId, surv_fill2)\n",
    "colnames(surv_df2) <- c('PassengerId', 'Survived')\n",
    "write.csv(surv_df2, file='soln2.csv', row.names=F)"
   ]
  },
  {
   "cell_type": "markdown",
   "metadata": {},
   "source": [
    "This one scored 0.78, which is a bit better. Now to take out FamilySize."
   ]
  },
  {
   "cell_type": "code",
   "execution_count": 39,
   "metadata": {
    "collapsed": true
   },
   "outputs": [],
   "source": [
    "surv_rf3 <- randomForest(as.factor(Survived) ~ Pclass + Sex + SibSp + Parch + Fare + \n",
    "                            Embarked + Title,\n",
    "                        data=train_new,\n",
    "                        importance=T)\n",
    "\n",
    "surv_fill3 <- predict(surv_rf3, test_new)\n",
    "surv_df3 <- data.frame(test$PassengerId, surv_fill3)\n",
    "colnames(surv_df3) <- c('PassengerId', 'Survived')\n",
    "write.csv(surv_df3, file='soln3.csv', row.names=F)"
   ]
  },
  {
   "cell_type": "markdown",
   "metadata": {},
   "source": [
    "This one scored 0.79, again an improvement."
   ]
  },
  {
   "cell_type": "markdown",
   "metadata": {},
   "source": [
    "<h1>9 Closing</h1>\n",
    "\n",
    "I'm going to stop for now, but this was incredibly satisfying. The fact that I got more than 0.5 is proof enough for me that I'm learning how to use R and machine learning.\n",
    "\n",
    "Here are some of the links I used while working on this project:\n",
    "\n",
    "<ul>\n",
    "    <li>https://www.kaggle.com/amberthomas/titanic/predicting-survival-on-the-titanic/comments</li>\n",
    "    <li>https://www.kaggle.com/mrisdal/titanic/exploring-survival-on-the-titanic</li>\n",
    "    <li>https://www.kaggle.com/robhardwick/titanic/my-first-kaggle-script/comments</li>\n",
    "    <li>http://home.online.nl/john.vanderree/cabins.htm#Adeck</li>\n",
    "</ul>\n",
    "\n",
    "Thank you to these wonderful folks for (unknowingly) helping me learn machine learning!"
   ]
  },
  {
   "cell_type": "code",
   "execution_count": null,
   "metadata": {
    "collapsed": true
   },
   "outputs": [],
   "source": []
  }
 ],
 "metadata": {
  "anaconda-cloud": {},
  "kernelspec": {
   "display_name": "R",
   "language": "R",
   "name": "ir"
  },
  "language_info": {
   "codemirror_mode": "r",
   "file_extension": ".r",
   "mimetype": "text/x-r-source",
   "name": "R",
   "pygments_lexer": "r",
   "version": "3.3.1"
  }
 },
 "nbformat": 4,
 "nbformat_minor": 1
}
