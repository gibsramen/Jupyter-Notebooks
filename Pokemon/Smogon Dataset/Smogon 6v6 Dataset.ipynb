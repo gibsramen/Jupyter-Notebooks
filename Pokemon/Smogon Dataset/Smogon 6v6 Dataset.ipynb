{
 "cells": [
  {
   "cell_type": "markdown",
   "metadata": {},
   "source": [
    "<h1>OU</h1>"
   ]
  },
  {
   "cell_type": "code",
   "execution_count": 1,
   "metadata": {
    "collapsed": false
   },
   "outputs": [],
   "source": [
    "# load in all data\n",
    "ou_pkmn <- read.csv('smogon_ou.csv', header=F)\n",
    "uber_pkmn <- read.csv('smogon_uber.csv', header=F)\n",
    "bl_pkmn <- read.csv('smogon_bl.csv', header=F)\n",
    "uu_pkmn <- read.csv('smogon_uu.csv', header=F)\n",
    "bl2_pkmn <- read.csv('smogon_bl2.csv', header=F)\n",
    "nu_pkmn <- read.csv('smogon_nu.csv', header=F)\n",
    "bl3_pkmn <- read.csv('smogon_bl3.csv', header=F)\n",
    "ru_pkmn <- read.csv('smogon_ru.csv', header=F)\n",
    "bl4_pkmn <- read.csv('smogon_bl4.csv', header=F)\n",
    "pu_pkmn <- read.csv('smogon_pu.csv', header=F)\n",
    "pkmn_data <- read.csv('Pokemon.csv', header=T)"
   ]
  },
  {
   "cell_type": "code",
   "execution_count": 2,
   "metadata": {
    "collapsed": false
   },
   "outputs": [],
   "source": [
    "# remove weird mega naming\n",
    "pkmn_data$Name <- gsub('(^.*Mega)|(^M.*Mega)', 'Mega', pkmn_data$Name)\n",
    "pkmn_data$Mega <- grepl('Mega', pkmn_data$Name)"
   ]
  },
  {
   "cell_type": "code",
   "execution_count": 3,
   "metadata": {
    "collapsed": false
   },
   "outputs": [],
   "source": [
    "# extract ou pkmn\n",
    "ou_pkmn_data <- pkmn_data[pkmn_data$Name %in% ou_pkmn$V1,]"
   ]
  },
  {
   "cell_type": "code",
   "execution_count": 4,
   "metadata": {
    "collapsed": false
   },
   "outputs": [
    {
     "data": {
      "text/html": [
       "<ol class=list-inline>\n",
       "\t<li>'Keldeo'</li>\n",
       "\t<li>'Kyurem-B'</li>\n",
       "\t<li>'Landorus-T'</li>\n",
       "\t<li>'Rotom-W'</li>\n",
       "\t<li>'Thundurus'</li>\n",
       "\t<li>'Tornadus-T'</li>\n",
       "</ol>\n"
      ],
      "text/latex": [
       "\\begin{enumerate*}\n",
       "\\item 'Keldeo'\n",
       "\\item 'Kyurem-B'\n",
       "\\item 'Landorus-T'\n",
       "\\item 'Rotom-W'\n",
       "\\item 'Thundurus'\n",
       "\\item 'Tornadus-T'\n",
       "\\end{enumerate*}\n"
      ],
      "text/markdown": [
       "1. 'Keldeo'\n",
       "2. 'Kyurem-B'\n",
       "3. 'Landorus-T'\n",
       "4. 'Rotom-W'\n",
       "5. 'Thundurus'\n",
       "6. 'Tornadus-T'\n",
       "\n",
       "\n"
      ],
      "text/plain": [
       "[1] \"Keldeo\"     \"Kyurem-B\"   \"Landorus-T\" \"Rotom-W\"    \"Thundurus\" \n",
       "[6] \"Tornadus-T\""
      ]
     },
     "metadata": {},
     "output_type": "display_data"
    }
   ],
   "source": [
    "setdiff(ou_pkmn$V1, ou_pkmn_data$Name)"
   ]
  },
  {
   "cell_type": "code",
   "execution_count": 5,
   "metadata": {
    "collapsed": true
   },
   "outputs": [],
   "source": [
    "miss_pkmn_data <- rbind(pkmn_data[which(pkmn_data$Name=='KeldeoOrdinary Forme'),],\n",
    "                        pkmn_data[which(pkmn_data$Name=='KyuremBlack Kyurem'),],\n",
    "                        pkmn_data[which(pkmn_data$Name=='LandorusTherian Forme'),],\n",
    "                        pkmn_data[which(pkmn_data$Name=='TornadusTherian Forme'),],\n",
    "                        pkmn_data[which(pkmn_data$Name=='RotomWash Rotom'),],\n",
    "                        pkmn_data[which(pkmn_data$Name=='ThundurusIncarnate Forme'),])\n",
    "\n",
    "miss_pkmn <- c('Keldeo', 'Kyurem-B', 'Landorus-T', 'Tornadus-T', 'Rotom-W', 'Thundurus')\n",
    "\n",
    "miss_pkmn_data$Name <- miss_pkmn\n",
    "ou_pkmn_data <- rbind(ou_pkmn_data, miss_pkmn_data)"
   ]
  },
  {
   "cell_type": "code",
   "execution_count": 6,
   "metadata": {
    "collapsed": false
   },
   "outputs": [],
   "source": [
    "ou_pkmn_data$Tier <- 'OU'"
   ]
  },
  {
   "cell_type": "markdown",
   "metadata": {},
   "source": [
    "<h1>Uber</h1>"
   ]
  },
  {
   "cell_type": "code",
   "execution_count": 7,
   "metadata": {
    "collapsed": false
   },
   "outputs": [],
   "source": [
    "uber_pkmn_data <- pkmn_data[pkmn_data$Name %in% uber_pkmn$V1,]"
   ]
  },
  {
   "cell_type": "code",
   "execution_count": 8,
   "metadata": {
    "collapsed": false
   },
   "outputs": [
    {
     "data": {
      "text/html": [
       "<ol class=list-inline>\n",
       "\t<li>'Aegislash'</li>\n",
       "\t<li>'Arceus (All Forms)'</li>\n",
       "\t<li>'Deoxys'</li>\n",
       "\t<li>'Deoxys-A'</li>\n",
       "\t<li>'Deoxys-D'</li>\n",
       "\t<li>'Deoxys-S'</li>\n",
       "\t<li>'Giratina'</li>\n",
       "\t<li>'Giratina-O'</li>\n",
       "\t<li>'Primal Groudon'</li>\n",
       "\t<li>'Hoopa-U'</li>\n",
       "\t<li>'Primal Kyogre'</li>\n",
       "\t<li>'Kyurem-W'</li>\n",
       "\t<li>'Landorus'</li>\n",
       "\t<li>'Shaymin-S'</li>\n",
       "</ol>\n"
      ],
      "text/latex": [
       "\\begin{enumerate*}\n",
       "\\item 'Aegislash'\n",
       "\\item 'Arceus (All Forms)'\n",
       "\\item 'Deoxys'\n",
       "\\item 'Deoxys-A'\n",
       "\\item 'Deoxys-D'\n",
       "\\item 'Deoxys-S'\n",
       "\\item 'Giratina'\n",
       "\\item 'Giratina-O'\n",
       "\\item 'Primal Groudon'\n",
       "\\item 'Hoopa-U'\n",
       "\\item 'Primal Kyogre'\n",
       "\\item 'Kyurem-W'\n",
       "\\item 'Landorus'\n",
       "\\item 'Shaymin-S'\n",
       "\\end{enumerate*}\n"
      ],
      "text/markdown": [
       "1. 'Aegislash'\n",
       "2. 'Arceus (All Forms)'\n",
       "3. 'Deoxys'\n",
       "4. 'Deoxys-A'\n",
       "5. 'Deoxys-D'\n",
       "6. 'Deoxys-S'\n",
       "7. 'Giratina'\n",
       "8. 'Giratina-O'\n",
       "9. 'Primal Groudon'\n",
       "10. 'Hoopa-U'\n",
       "11. 'Primal Kyogre'\n",
       "12. 'Kyurem-W'\n",
       "13. 'Landorus'\n",
       "14. 'Shaymin-S'\n",
       "\n",
       "\n"
      ],
      "text/plain": [
       " [1] \"Aegislash\"          \"Arceus (All Forms)\" \"Deoxys\"            \n",
       " [4] \"Deoxys-A\"           \"Deoxys-D\"           \"Deoxys-S\"          \n",
       " [7] \"Giratina\"           \"Giratina-O\"         \"Primal Groudon\"    \n",
       "[10] \"Hoopa-U\"            \"Primal Kyogre\"      \"Kyurem-W\"          \n",
       "[13] \"Landorus\"           \"Shaymin-S\"         "
      ]
     },
     "metadata": {},
     "output_type": "display_data"
    }
   ],
   "source": [
    "setdiff(uber_pkmn$V1, uber_pkmn_data$Name)"
   ]
  },
  {
   "cell_type": "code",
   "execution_count": 9,
   "metadata": {
    "collapsed": true
   },
   "outputs": [],
   "source": [
    "miss_pkmn_data <- rbind(pkmn_data[which(pkmn_data$Name=='AegislashBlade Forme'),],\n",
    "                        pkmn_data[which(pkmn_data$Name=='DeoxysAttack Forme'),],\n",
    "                        pkmn_data[which(pkmn_data$Name=='DeoxysNormal Forme'),],\n",
    "                        pkmn_data[which(pkmn_data$Name=='DeoxysSpeed Forme'),],\n",
    "                        pkmn_data[which(pkmn_data$Name=='DeoxysDefense Forme'),],\n",
    "                        pkmn_data[which(pkmn_data$Name=='GiratinaAltered Forme'),],\n",
    "                        pkmn_data[which(pkmn_data$Name=='GiratinaOrigin Forme'),],\n",
    "                        pkmn_data[which(pkmn_data$Name=='KyuremWhite Kyurem'),],\n",
    "                        pkmn_data[which(pkmn_data$Name=='Arceus'),],\n",
    "                        pkmn_data[which(pkmn_data$Name=='GroudonPrimal Groudon'),],\n",
    "                        pkmn_data[which(pkmn_data$Name=='KyogrePrimal Kyogre'),],\n",
    "                        pkmn_data[which(pkmn_data$Name=='HoopaHoopa Unbound'),],\n",
    "                        pkmn_data[which(pkmn_data$Name=='LandorusIncarnate Forme'),],\n",
    "                        pkmn_data[which(pkmn_data$Name=='ShayminSky Forme'),]\n",
    "                       )\n",
    "\n",
    "miss_names <- c('Aegislash', 'Deoxys-A', 'Deoxys', 'Deoxys-S', 'Deoxys-D', 'Giratina',\n",
    "                'Giratina-O', 'Kyurem-W', 'Arceus', 'Primal Groudon', 'Primal Kyogre',\n",
    "                'Hoopa-U', 'Landorus', 'Shaymin-S')\n",
    "miss_pkmn_data$Name <- miss_names\n",
    "\n",
    "uber_pkmn_data <- rbind(uber_pkmn_data, miss_pkmn_data)"
   ]
  },
  {
   "cell_type": "code",
   "execution_count": 10,
   "metadata": {
    "collapsed": false
   },
   "outputs": [],
   "source": [
    "uber_pkmn_data$Tier <- 'Uber'"
   ]
  },
  {
   "cell_type": "markdown",
   "metadata": {},
   "source": [
    "<h1>BL</h1>"
   ]
  },
  {
   "cell_type": "code",
   "execution_count": 11,
   "metadata": {
    "collapsed": false
   },
   "outputs": [],
   "source": [
    "bl_pkmn_data <- pkmn_data[pkmn_data$Name %in% bl_pkmn$V1,]"
   ]
  },
  {
   "cell_type": "code",
   "execution_count": 12,
   "metadata": {
    "collapsed": false
   },
   "outputs": [
    {
     "data": {
      "text/html": [
       "<ol class=list-inline>\n",
       "\t<li>'Thundurus-T'</li>\n",
       "\t<li>'Zygarde'</li>\n",
       "</ol>\n"
      ],
      "text/latex": [
       "\\begin{enumerate*}\n",
       "\\item 'Thundurus-T'\n",
       "\\item 'Zygarde'\n",
       "\\end{enumerate*}\n"
      ],
      "text/markdown": [
       "1. 'Thundurus-T'\n",
       "2. 'Zygarde'\n",
       "\n",
       "\n"
      ],
      "text/plain": [
       "[1] \"Thundurus-T\" \"Zygarde\"    "
      ]
     },
     "metadata": {},
     "output_type": "display_data"
    }
   ],
   "source": [
    "setdiff(bl_pkmn$V1, bl_pkmn_data$Name)"
   ]
  },
  {
   "cell_type": "code",
   "execution_count": 13,
   "metadata": {
    "collapsed": true
   },
   "outputs": [],
   "source": [
    "bl_miss <- rbind(pkmn_data[which(pkmn_data$Name=='ThundurusTherian Forme'),],\n",
    "                 pkmn_data[which(pkmn_data$Name=='Zygarde50% Forme'),])\n",
    "bl_names <- c('Thundurus-T', 'Zygarde')\n",
    "bl_miss$Name <- bl_names\n",
    "\n",
    "bl_pkmn_data <- rbind(bl_pkmn_data, bl_miss)"
   ]
  },
  {
   "cell_type": "code",
   "execution_count": 14,
   "metadata": {
    "collapsed": false
   },
   "outputs": [],
   "source": [
    "bl_pkmn_data$Tier <- 'BL'"
   ]
  },
  {
   "cell_type": "markdown",
   "metadata": {},
   "source": [
    "<h1>UU</h1>"
   ]
  },
  {
   "cell_type": "code",
   "execution_count": 15,
   "metadata": {
    "collapsed": true
   },
   "outputs": [],
   "source": [
    "uu_pkmn_data <- pkmn_data[pkmn_data$Name %in% uu_pkmn$V1,]"
   ]
  },
  {
   "cell_type": "code",
   "execution_count": 16,
   "metadata": {
    "collapsed": false
   },
   "outputs": [
    {
     "data": {
      "text/html": [
       "<ol class=list-inline>\n",
       "\t<li>'Darmanitan'</li>\n",
       "\t<li>'Rotom-H (Heat Form)'</li>\n",
       "\t<li>'Tornadus'</li>\n",
       "</ol>\n"
      ],
      "text/latex": [
       "\\begin{enumerate*}\n",
       "\\item 'Darmanitan'\n",
       "\\item 'Rotom-H (Heat Form)'\n",
       "\\item 'Tornadus'\n",
       "\\end{enumerate*}\n"
      ],
      "text/markdown": [
       "1. 'Darmanitan'\n",
       "2. 'Rotom-H (Heat Form)'\n",
       "3. 'Tornadus'\n",
       "\n",
       "\n"
      ],
      "text/plain": [
       "[1] \"Darmanitan\"          \"Rotom-H (Heat Form)\" \"Tornadus\"           "
      ]
     },
     "metadata": {},
     "output_type": "display_data"
    }
   ],
   "source": [
    "setdiff(uu_pkmn$V1, uu_pkmn_data$Name)"
   ]
  },
  {
   "cell_type": "code",
   "execution_count": 17,
   "metadata": {
    "collapsed": false
   },
   "outputs": [],
   "source": [
    "uu_miss <- rbind(pkmn_data[which(pkmn_data$Name=='DarmanitanStandard Mode'),],\n",
    "                 pkmn_data[which(pkmn_data$Name=='RotomHeat Rotom'),],\n",
    "                 pkmn_data[which(pkmn_data$Name=='TornadusIncarnate Forme'),])\n",
    "\n",
    "uu_names <- c('Darmanitan', 'Rotom-H', 'Tornadus')\n",
    "uu_miss$Name <- uu_names\n",
    "\n",
    "uu_pkmn_data <- rbind(uu_pkmn_data, uu_miss)"
   ]
  },
  {
   "cell_type": "code",
   "execution_count": 18,
   "metadata": {
    "collapsed": false
   },
   "outputs": [],
   "source": [
    "uu_pkmn_data$Tier <- 'UU'"
   ]
  },
  {
   "cell_type": "markdown",
   "metadata": {},
   "source": [
    "<h1>BL2</h1>"
   ]
  },
  {
   "cell_type": "code",
   "execution_count": 19,
   "metadata": {
    "collapsed": true
   },
   "outputs": [],
   "source": [
    "bl2_pkmn_data <- pkmn_data[pkmn_data$Name %in% bl2_pkmn$V1,]"
   ]
  },
  {
   "cell_type": "code",
   "execution_count": 20,
   "metadata": {
    "collapsed": false
   },
   "outputs": [
    {
     "data": {
      "text/html": [
       "'Shaymin'"
      ],
      "text/latex": [
       "'Shaymin'"
      ],
      "text/markdown": [
       "'Shaymin'"
      ],
      "text/plain": [
       "[1] \"Shaymin\""
      ]
     },
     "metadata": {},
     "output_type": "display_data"
    }
   ],
   "source": [
    "setdiff(bl2_pkmn$V1, bl2_pkmn_data$Name)"
   ]
  },
  {
   "cell_type": "code",
   "execution_count": 21,
   "metadata": {
    "collapsed": false
   },
   "outputs": [],
   "source": [
    "bl2_miss <- pkmn_data[which(pkmn_data$Name=='ShayminLand Forme'),]\n",
    "bl2_miss$Name <- 'Shaymin'\n",
    "\n",
    "bl2_pkmn_data <- rbind(bl2_pkmn_data, bl2_miss)"
   ]
  },
  {
   "cell_type": "code",
   "execution_count": 22,
   "metadata": {
    "collapsed": false
   },
   "outputs": [],
   "source": [
    "bl2_pkmn_data$Tier <- 'BL2'"
   ]
  },
  {
   "cell_type": "markdown",
   "metadata": {},
   "source": [
    "<h1>RU</h1>"
   ]
  },
  {
   "cell_type": "code",
   "execution_count": 23,
   "metadata": {
    "collapsed": false
   },
   "outputs": [],
   "source": [
    "ru_pkmn_data <- pkmn_data[pkmn_data$Name %in% ru_pkmn$V1,]"
   ]
  },
  {
   "cell_type": "code",
   "execution_count": 24,
   "metadata": {
    "collapsed": false
   },
   "outputs": [
    {
     "data": {
      "text/html": [
       "<ol class=list-inline>\n",
       "\t<li>'Hoopa'</li>\n",
       "\t<li>'Meloetta'</li>\n",
       "\t<li>'Rotom-C (Lawn Mower form)'</li>\n",
       "</ol>\n"
      ],
      "text/latex": [
       "\\begin{enumerate*}\n",
       "\\item 'Hoopa'\n",
       "\\item 'Meloetta'\n",
       "\\item 'Rotom-C (Lawn Mower form)'\n",
       "\\end{enumerate*}\n"
      ],
      "text/markdown": [
       "1. 'Hoopa'\n",
       "2. 'Meloetta'\n",
       "3. 'Rotom-C (Lawn Mower form)'\n",
       "\n",
       "\n"
      ],
      "text/plain": [
       "[1] \"Hoopa\"                     \"Meloetta\"                 \n",
       "[3] \"Rotom-C (Lawn Mower form)\""
      ]
     },
     "metadata": {},
     "output_type": "display_data"
    }
   ],
   "source": [
    "setdiff(ru_pkmn$V1, ru_pkmn_data$Name)"
   ]
  },
  {
   "cell_type": "code",
   "execution_count": 25,
   "metadata": {
    "collapsed": true
   },
   "outputs": [],
   "source": [
    "ru_miss <- rbind(pkmn_data[which(pkmn_data$Name=='HoopaHoopa Confined'),],\n",
    "                 pkmn_data[which(pkmn_data$Name=='RotomMow Rotom'),],\n",
    "                 pkmn_data[which(pkmn_data$Name=='MeloettaAria Forme'),],\n",
    "                 pkmn_data[which(pkmn_data$Name=='MeloettaPirouette Forme'),])\n",
    "\n",
    "ru_names <- c('Hoopa', 'Meloetta', 'Meloetta-P', 'Rotom-C')\n",
    "\n",
    "ru_miss$Name <- ru_names\n",
    "\n",
    "ru_pkmn_data <- rbind(ru_pkmn_data, ru_miss)"
   ]
  },
  {
   "cell_type": "code",
   "execution_count": 26,
   "metadata": {
    "collapsed": false
   },
   "outputs": [],
   "source": [
    "ru_pkmn_data$Tier <- 'RU'"
   ]
  },
  {
   "cell_type": "markdown",
   "metadata": {},
   "source": [
    "<h1>BL3</h1>"
   ]
  },
  {
   "cell_type": "code",
   "execution_count": 27,
   "metadata": {
    "collapsed": true
   },
   "outputs": [],
   "source": [
    "bl3_pkmn_data <- pkmn_data[pkmn_data$Name %in% bl3_pkmn$V1,]"
   ]
  },
  {
   "cell_type": "code",
   "execution_count": 28,
   "metadata": {
    "collapsed": false
   },
   "outputs": [
    {
     "data": {
      "text/html": [],
      "text/latex": [],
      "text/markdown": [],
      "text/plain": [
       "character(0)"
      ]
     },
     "metadata": {},
     "output_type": "display_data"
    }
   ],
   "source": [
    "setdiff(bl3_pkmn$V1, bl3_pkmn_data$Name)"
   ]
  },
  {
   "cell_type": "code",
   "execution_count": 29,
   "metadata": {
    "collapsed": false
   },
   "outputs": [],
   "source": [
    "bl3_pkmn_data$Tier <- 'BL3'"
   ]
  },
  {
   "cell_type": "markdown",
   "metadata": {},
   "source": [
    "<h1>NU</h1>"
   ]
  },
  {
   "cell_type": "code",
   "execution_count": 30,
   "metadata": {
    "collapsed": false
   },
   "outputs": [],
   "source": [
    "nu_pkmn_data <- pkmn_data[pkmn_data$Name %in% nu_pkmn$V1,]"
   ]
  },
  {
   "cell_type": "code",
   "execution_count": 31,
   "metadata": {
    "collapsed": false
   },
   "outputs": [
    {
     "data": {
      "text/html": [
       "'Rotom (Normal form)'"
      ],
      "text/latex": [
       "'Rotom (Normal form)'"
      ],
      "text/markdown": [
       "'Rotom (Normal form)'"
      ],
      "text/plain": [
       "[1] \"Rotom (Normal form)\""
      ]
     },
     "metadata": {},
     "output_type": "display_data"
    }
   ],
   "source": [
    "setdiff(nu_pkmn$V1, nu_pkmn_data$Name)"
   ]
  },
  {
   "cell_type": "code",
   "execution_count": 32,
   "metadata": {
    "collapsed": false
   },
   "outputs": [],
   "source": [
    "nu_miss <- pkmn_data[which(pkmn_data$Name=='Rotom'),]\n",
    "nu_miss$Name <- 'Rotom'\n",
    "\n",
    "nu_pkmn_data <- rbind(nu_pkmn_data, nu_miss)"
   ]
  },
  {
   "cell_type": "code",
   "execution_count": 33,
   "metadata": {
    "collapsed": false
   },
   "outputs": [],
   "source": [
    "nu_pkmn_data$Tier <- 'NU'"
   ]
  },
  {
   "cell_type": "markdown",
   "metadata": {},
   "source": [
    "<h1>BL4</h1>"
   ]
  },
  {
   "cell_type": "code",
   "execution_count": 34,
   "metadata": {
    "collapsed": true
   },
   "outputs": [],
   "source": [
    "bl4_pkmn_data <- pkmn_data[pkmn_data$Name %in% bl4_pkmn$V1,]"
   ]
  },
  {
   "cell_type": "code",
   "execution_count": 35,
   "metadata": {
    "collapsed": false
   },
   "outputs": [
    {
     "data": {
      "text/html": [],
      "text/latex": [],
      "text/markdown": [],
      "text/plain": [
       "character(0)"
      ]
     },
     "metadata": {},
     "output_type": "display_data"
    }
   ],
   "source": [
    "setdiff(bl4_pkmn$V1, bl4_pkmn_data$Name)"
   ]
  },
  {
   "cell_type": "code",
   "execution_count": 36,
   "metadata": {
    "collapsed": false
   },
   "outputs": [],
   "source": [
    "bl4_pkmn_data$Tier <- 'BL4'"
   ]
  },
  {
   "cell_type": "markdown",
   "metadata": {},
   "source": [
    "<h1>PU</h1>"
   ]
  },
  {
   "cell_type": "code",
   "execution_count": 37,
   "metadata": {
    "collapsed": true
   },
   "outputs": [],
   "source": [
    "pu_pkmn_data <- pkmn_data[pkmn_data$Name %in% pu_pkmn$V1,]"
   ]
  },
  {
   "cell_type": "code",
   "execution_count": 38,
   "metadata": {
    "collapsed": false
   },
   "outputs": [
    {
     "data": {
      "text/html": [
       "<ol class=list-inline>\n",
       "\t<li>'Gourgeist (all forms)'</li>\n",
       "\t<li>'Meowstic (Both Male and Female)'</li>\n",
       "\t<li>'Rotom-F (Freezer form)'</li>\n",
       "\t<li>'Rotom-S (Fan form)'</li>\n",
       "\t<li>'Wormadam (All Forms)'</li>\n",
       "</ol>\n"
      ],
      "text/latex": [
       "\\begin{enumerate*}\n",
       "\\item 'Gourgeist (all forms)'\n",
       "\\item 'Meowstic (Both Male and Female)'\n",
       "\\item 'Rotom-F (Freezer form)'\n",
       "\\item 'Rotom-S (Fan form)'\n",
       "\\item 'Wormadam (All Forms)'\n",
       "\\end{enumerate*}\n"
      ],
      "text/markdown": [
       "1. 'Gourgeist (all forms)'\n",
       "2. 'Meowstic (Both Male and Female)'\n",
       "3. 'Rotom-F (Freezer form)'\n",
       "4. 'Rotom-S (Fan form)'\n",
       "5. 'Wormadam (All Forms)'\n",
       "\n",
       "\n"
      ],
      "text/plain": [
       "[1] \"Gourgeist (all forms)\"           \"Meowstic (Both Male and Female)\"\n",
       "[3] \"Rotom-F (Freezer form)\"          \"Rotom-S (Fan form)\"             \n",
       "[5] \"Wormadam (All Forms)\"           "
      ]
     },
     "metadata": {},
     "output_type": "display_data"
    }
   ],
   "source": [
    "setdiff(pu_pkmn$V1, pu_pkmn_data$Name)"
   ]
  },
  {
   "cell_type": "code",
   "execution_count": 39,
   "metadata": {
    "collapsed": false
   },
   "outputs": [],
   "source": [
    "pu_miss <- rbind(pkmn_data[which(pkmn_data$Name=='GourgeistAverage Size'),],\n",
    "                 pkmn_data[which(pkmn_data$Name=='GourgeistSmall Size'),],\n",
    "                 pkmn_data[which(pkmn_data$Name=='GourgeistLarge Size'),],\n",
    "                 pkmn_data[which(pkmn_data$Name=='GourgeistSuper Size'),],\n",
    "                 pkmn_data[which(pkmn_data$Name=='MeowsticMale'),],\n",
    "                 pkmn_data[which(pkmn_data$Name=='MeowsticFemale'),],\n",
    "                 pkmn_data[which(pkmn_data$Name=='RotomFrost Rotom'),],\n",
    "                 pkmn_data[which(pkmn_data$Name=='RotomFan Rotom'),],\n",
    "                 pkmn_data[which(pkmn_data$Name=='WormadamPlant Cloak'),],\n",
    "                 pkmn_data[which(pkmn_data$Name=='WormadamSandy Cloak'),],\n",
    "                 pkmn_data[which(pkmn_data$Name=='WormadamTrash Cloak'),]\n",
    "                )\n",
    "\n",
    "pu_names <- c('Gourgeist', 'Gourgeist-Small', 'Gourgeist-Large', 'Gourgeist-Super',\n",
    "              'Meowstic-M', 'Meowstic-F', 'Rotom-F', 'Rotom-S', 'Wormadam-Plant',\n",
    "              'Wormadam-Sandy', 'Wormadam-Trash')\n",
    "\n",
    "pu_miss$Name <- pu_names\n",
    "\n",
    "pu_pkmn_data <- rbind(pu_pkmn_data, pu_miss)"
   ]
  },
  {
   "cell_type": "code",
   "execution_count": 40,
   "metadata": {
    "collapsed": false
   },
   "outputs": [],
   "source": [
    "pu_pkmn_data$Tier <- 'PU'"
   ]
  },
  {
   "cell_type": "markdown",
   "metadata": {},
   "source": [
    "<h1>AG</h1>"
   ]
  },
  {
   "cell_type": "code",
   "execution_count": 41,
   "metadata": {
    "collapsed": false
   },
   "outputs": [],
   "source": [
    "ag_pkmn_data <- pkmn_data[which(pkmn_data$Name=='Mega Rayquaza'),]\n",
    "ag_pkmn_data$Tier <- 'AG'"
   ]
  },
  {
   "cell_type": "code",
   "execution_count": 52,
   "metadata": {
    "collapsed": false
   },
   "outputs": [],
   "source": [
    "smogon <- rbind(ag_pkmn_data, uber_pkmn_data,ou_pkmn_data, bl_pkmn_data, uu_pkmn_data,\n",
    "                bl2_pkmn_data, ru_pkmn_data, bl3_pkmn_data, nu_pkmn_data, bl4_pkmn_data,\n",
    "                pu_pkmn_data)"
   ]
  },
  {
   "cell_type": "code",
   "execution_count": 43,
   "metadata": {
    "collapsed": false
   },
   "outputs": [],
   "source": [
    "smogon$Mega <- grepl('Mega', smogon$Name)"
   ]
  },
  {
   "cell_type": "code",
   "execution_count": null,
   "metadata": {
    "collapsed": true
   },
   "outputs": [],
   "source": [
    "smogon$Legendary <- as.logical(smogon$Legendary)"
   ]
  },
  {
   "cell_type": "code",
   "execution_count": 102,
   "metadata": {
    "collapsed": false
   },
   "outputs": [
    {
     "data": {
      "text/html": [
       "TRUE"
      ],
      "text/latex": [
       "TRUE"
      ],
      "text/markdown": [
       "TRUE"
      ],
      "text/plain": [
       "[1] TRUE"
      ]
     },
     "metadata": {},
     "output_type": "display_data"
    }
   ],
   "source": [
    "smogon$Legendary[smogon$Name=='Hoopa']"
   ]
  },
  {
   "cell_type": "code",
   "execution_count": 103,
   "metadata": {
    "collapsed": false
   },
   "outputs": [],
   "source": [
    "smogon$Legendary[smogon$Name=='Mew'] <- TRUE\n",
    "smogon$Legendary[smogon$Name=='Manaphy'] <- TRUE\n",
    "smogon$Legendary[smogon$Name=='Celebi'] <- TRUE\n",
    "smogon$Legendary[smogon$Name=='Phione'] <- TRUE\n",
    "smogon$Legendary[smogon$Name=='Meloetta'] <- TRUE\n",
    "smogon$Legendary[smogon$Name=='Meloetta-P'] <- TRUE\n",
    "smogon$Legendary[smogon$Name=='Genesect'] <- TRUE"
   ]
  },
  {
   "cell_type": "code",
   "execution_count": 105,
   "metadata": {
    "collapsed": false
   },
   "outputs": [],
   "source": [
    "write.csv(smogon, file='smogon.csv', row.names=FALSE)"
   ]
  },
  {
   "cell_type": "code",
   "execution_count": null,
   "metadata": {
    "collapsed": true
   },
   "outputs": [],
   "source": []
  }
 ],
 "metadata": {
  "anaconda-cloud": {},
  "kernelspec": {
   "display_name": "R",
   "language": "R",
   "name": "ir"
  },
  "language_info": {
   "codemirror_mode": "r",
   "file_extension": ".r",
   "mimetype": "text/x-r-source",
   "name": "R",
   "pygments_lexer": "r",
   "version": "3.3.1"
  }
 },
 "nbformat": 4,
 "nbformat_minor": 1
}
