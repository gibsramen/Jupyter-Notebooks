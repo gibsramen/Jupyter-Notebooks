{
 "cells": [
  {
   "cell_type": "markdown",
   "metadata": {},
   "source": [
    "<h1>Introduction</h1>\n",
    "\n",
    "This is a Jupyter notebook outlining the results of 500 Wonder Trades over the course of nearly a week. The purpose of this notebook is two-fold:\n",
    "\n",
    "<ol>\n",
    "    <li>Showcase the data I collected</li>\n",
    "    <li>Learn/practice some data science skills</li>\n",
    "</ol>\n",
    "\n",
    "<h2>What is Wonder Trade?</h2>\n",
    "\n",
    "Wonder Trade is a feature in the main series Pokemon games that allows you trade one of your Pokemon with a partner. In return, you receive a Pokemon they have elected to trade. The partner chosen is, as far as I know, randomly chosen from around the world.\n",
    "\n",
    "<h2>Procedure</h2>\n",
    "\n",
    "The Pokemon I chose to use for this endeavor was Mareanie. This choice came about as a result of a desire to distribute a Pokemon that is relatively difficult to find in the game.\n",
    "\n",
    "I started by breeding Mareanies in the Paniola Ranch until I had entire boxful (30 Mareanies). Once I had hatched 30, I connected to the Internet and started Wonder Trading. Once I found a partner, I noted the time of connection, date of connection, and Trainer's region. Additionally, I recorded the state of any trainer located in the United States. The reason for not recording the subregion of non-American locations was mainly due to my unfamiliarity. Because I am the most familiar with the 50 United States, it was relatively trivial to record the states from which trainers were trading. However, I am not very familiar with the regions within other countries, meaning it would be more difficult to keep track of these subregions.\n",
    "\n",
    "After Wonder Trading an entire box of Mareanies, I went into the box with the received Pokemon and started collecting data by viewing the Pokemon's summary. The following data were collected about each Pokemon:\n",
    "\n",
    "<ul>\n",
    "    <li>Species</li>\n",
    "    <li>Pokemon Language</li>\n",
    "    <li>Level</li>\n",
    "    <li>Level Met</li>\n",
    "    <li>Gender</li>\n",
    "    <li>Type 1</li>\n",
    "    <li>Type 2</li>\n",
    "    <li>Nature</li>\n",
    "    <li>Pokeball</li>\n",
    "    <li>Presence of Held Item</li>\n",
    "    <li>Number of Perfect IVs</li>\n",
    "</ul>\n",
    "\n",
    "<h2>Miscellaneous Information</h2>\n",
    "\n",
    "Shoutout to the <a href=\"http://partiallyderivative.com/\">Partially Derivative</a> podcast for keeping me sane while I hatched and Wonder Traded 500 Mareanies.\n",
    "\n",
    "Please keep in mind that this data collection process was very unscientific. Ideally, I would have Wonder Traded Mareanies at all times of the day to account for time zones, working people, etc. However, I do enjoy sleep and as a result the majority of my Wonder Trades occurred from 8:00 to 23:00 CST. All these results are just for fun and should not be taken as indicative of Wonder Trade as a whole.\n",
    "\n",
    "Thanks for checking my work out!"
   ]
  },
  {
   "cell_type": "markdown",
   "metadata": {},
   "source": [
    "<h2>Notebook Preparation</h2>\n",
    "\n",
    "I'll be using the *ggplot2* R library for better graphics creation and the *repr* library to modify plot representation."
   ]
  },
  {
   "cell_type": "code",
   "execution_count": 1,
   "metadata": {
    "collapsed": true
   },
   "outputs": [],
   "source": [
    "library(repr)\n",
    "library(ggplot2)"
   ]
  },
  {
   "cell_type": "markdown",
   "metadata": {},
   "source": [
    "<h2>Data Import</h2>\n",
    "\n",
    "First and foremost, we should probably import the data."
   ]
  },
  {
   "cell_type": "code",
   "execution_count": 2,
   "metadata": {
    "collapsed": false
   },
   "outputs": [],
   "source": [
    "wtdata <- read.csv(\"Wonder Trade.csv\", header=T)\n",
    "attach(wtdata)"
   ]
  },
  {
   "cell_type": "markdown",
   "metadata": {},
   "source": [
    "Let's take a look at the data format."
   ]
  },
  {
   "cell_type": "code",
   "execution_count": 3,
   "metadata": {
    "collapsed": false
   },
   "outputs": [
    {
     "data": {
      "text/html": [
       "<table>\n",
       "<thead><tr><th></th><th scope=col>Date</th><th scope=col>Time</th><th scope=col>Pokemon</th><th scope=col>Trainer.Region</th><th scope=col>Trainer.Subregion</th><th scope=col>Pokemon.Region</th><th scope=col>Level</th><th scope=col>Level.Met</th><th scope=col>Gender</th><th scope=col>Type1</th><th scope=col>Type2</th><th scope=col>Nature</th><th scope=col>Pokeball</th><th scope=col>Held.Item</th><th scope=col>Perfect.IVs</th></tr></thead>\n",
       "<tbody>\n",
       "\t<tr><th scope=row>1</th><td>12/13/16   </td><td>17:28      </td><td>Oricorio   </td><td>South Korea</td><td>           </td><td>           </td><td>13         </td><td>10         </td><td>F          </td><td>Electric   </td><td>Flying     </td><td>Sassy      </td><td>Poke       </td><td>0          </td><td>0          </td></tr>\n",
       "\t<tr><th scope=row>2</th><td>12/13/16     </td><td>17:30        </td><td>Zubat        </td><td>United States</td><td>Texas        </td><td>GER          </td><td>8            </td><td>8            </td><td>M            </td><td>Poison       </td><td>Flying       </td><td>Hardy        </td><td>Poke         </td><td>0            </td><td>1            </td></tr>\n",
       "\t<tr><th scope=row>3</th><td>12/13/16     </td><td>17:31        </td><td>Carbink      </td><td>United States</td><td>Oklahoma     </td><td>             </td><td>10           </td><td>10           </td><td>N            </td><td>Rock         </td><td>Fairy        </td><td>Relaxed      </td><td>Poke         </td><td>0            </td><td>0            </td></tr>\n",
       "\t<tr><th scope=row>4</th><td>12/13/16     </td><td>17:33        </td><td>Klefki       </td><td>United States</td><td>Connecticut  </td><td>             </td><td>29           </td><td>29           </td><td>M            </td><td>Steel        </td><td>Fairy        </td><td>Jolly        </td><td>Quick        </td><td>0            </td><td>0            </td></tr>\n",
       "\t<tr><th scope=row>5</th><td>12/13/16     </td><td>17:34        </td><td>Luvdisc      </td><td>United States</td><td>             </td><td>             </td><td>16           </td><td>16           </td><td>M            </td><td>Water        </td><td>             </td><td>Naughty      </td><td>Quick        </td><td>0            </td><td>0            </td></tr>\n",
       "\t<tr><th scope=row>6</th><td>12/13/16      </td><td>17:35         </td><td>Roggenrola    </td><td>United Kingdom</td><td>              </td><td>SPA           </td><td>10            </td><td>10            </td><td>M             </td><td>Rock          </td><td>              </td><td>Modest        </td><td>Poke          </td><td>0             </td><td>1             </td></tr>\n",
       "</tbody>\n",
       "</table>\n"
      ],
      "text/latex": [
       "\\begin{tabular}{r|lllllllllllllll}\n",
       "  & Date & Time & Pokemon & Trainer.Region & Trainer.Subregion & Pokemon.Region & Level & Level.Met & Gender & Type1 & Type2 & Nature & Pokeball & Held.Item & Perfect.IVs\\\\\n",
       "\\hline\n",
       "\t1 & 12/13/16    & 17:28       & Oricorio    & South Korea &             &             & 13          & 10          & F           & Electric    & Flying      & Sassy       & Poke        & 0           & 0          \\\\\n",
       "\t2 & 12/13/16      & 17:30         & Zubat         & United States & Texas         & GER           & 8             & 8             & M             & Poison        & Flying        & Hardy         & Poke          & 0             & 1            \\\\\n",
       "\t3 & 12/13/16      & 17:31         & Carbink       & United States & Oklahoma      &               & 10            & 10            & N             & Rock          & Fairy         & Relaxed       & Poke          & 0             & 0            \\\\\n",
       "\t4 & 12/13/16      & 17:33         & Klefki        & United States & Connecticut   &               & 29            & 29            & M             & Steel         & Fairy         & Jolly         & Quick         & 0             & 0            \\\\\n",
       "\t5 & 12/13/16      & 17:34         & Luvdisc       & United States &               &               & 16            & 16            & M             & Water         &               & Naughty       & Quick         & 0             & 0            \\\\\n",
       "\t6 & 12/13/16       & 17:35          & Roggenrola     & United Kingdom &                & SPA            & 10             & 10             & M              & Rock           &                & Modest         & Poke           & 0              & 1             \\\\\n",
       "\\end{tabular}\n"
      ],
      "text/plain": [
       "      Date  Time    Pokemon Trainer.Region Trainer.Subregion Pokemon.Region\n",
       "1 12/13/16 17:28   Oricorio    South Korea                                 \n",
       "2 12/13/16 17:30      Zubat  United States             Texas            GER\n",
       "3 12/13/16 17:31    Carbink  United States          Oklahoma               \n",
       "4 12/13/16 17:33     Klefki  United States       Connecticut               \n",
       "5 12/13/16 17:34    Luvdisc  United States                                 \n",
       "6 12/13/16 17:35 Roggenrola United Kingdom                              SPA\n",
       "  Level Level.Met Gender    Type1  Type2  Nature Pokeball Held.Item Perfect.IVs\n",
       "1    13        10      F Electric Flying   Sassy     Poke     FALSE           0\n",
       "2     8         8      M   Poison Flying   Hardy     Poke     FALSE           1\n",
       "3    10        10      N     Rock  Fairy Relaxed     Poke     FALSE           0\n",
       "4    29        29      M    Steel  Fairy   Jolly    Quick     FALSE           0\n",
       "5    16        16      M    Water        Naughty    Quick     FALSE           0\n",
       "6    10        10      M     Rock         Modest     Poke     FALSE           1"
      ]
     },
     "metadata": {},
     "output_type": "display_data"
    }
   ],
   "source": [
    "head(wtdata)"
   ]
  },
  {
   "cell_type": "markdown",
   "metadata": {},
   "source": [
    "Looks pretty good. Whoever collected this data must have been an expert. Note that the empty cells in the Pokemon Region variable just mean that the relevant Pokemon was an English language Pokemon."
   ]
  },
  {
   "cell_type": "markdown",
   "metadata": {},
   "source": [
    "<h2>Pokemon</h2>\n",
    "\n",
    "The most received Pokemon are..."
   ]
  },
  {
   "cell_type": "code",
   "execution_count": 4,
   "metadata": {
    "collapsed": false
   },
   "outputs": [
    {
     "data": {
      "text/html": [
       "<table>\n",
       "<thead><tr><th></th><th scope=col>Pokemon</th><th scope=col>Freq</th></tr></thead>\n",
       "<tbody>\n",
       "\t<tr><th scope=row>1</th><td>Abra</td><td>27  </td></tr>\n",
       "\t<tr><th scope=row>2</th><td>Magikarp</td><td>20      </td></tr>\n",
       "\t<tr><th scope=row>3</th><td>Mimikyu</td><td>19     </td></tr>\n",
       "\t<tr><th scope=row>4</th><td>A.Rattata</td><td>16       </td></tr>\n",
       "\t<tr><th scope=row>5</th><td>Wingull</td><td>16     </td></tr>\n",
       "\t<tr><th scope=row>6</th><td>Yungoos</td><td>16     </td></tr>\n",
       "</tbody>\n",
       "</table>\n"
      ],
      "text/latex": [
       "\\begin{tabular}{r|ll}\n",
       "  & Pokemon & Freq\\\\\n",
       "\\hline\n",
       "\t1 & Abra & 27  \\\\\n",
       "\t2 & Magikarp & 20      \\\\\n",
       "\t3 & Mimikyu & 19     \\\\\n",
       "\t4 & A.Rattata & 16       \\\\\n",
       "\t5 & Wingull & 16     \\\\\n",
       "\t6 & Yungoos & 16     \\\\\n",
       "\\end{tabular}\n"
      ],
      "text/plain": [
       "    Pokemon Freq\n",
       "1      Abra   27\n",
       "2  Magikarp   20\n",
       "3   Mimikyu   19\n",
       "4 A.Rattata   16\n",
       "5   Wingull   16\n",
       "6   Yungoos   16"
      ]
     },
     "metadata": {},
     "output_type": "display_data"
    }
   ],
   "source": [
    "head(data.frame(sort(table(Pokemon), decreasing=T)))"
   ]
  },
  {
   "cell_type": "markdown",
   "metadata": {},
   "source": [
    "Whoa, the Mimikyu is pretty interesting. The other Pokemon make sense as they are available very early and people are more willing to trade \"trash\" Pokemon. I guess a lot of people are breeding Mimikyus."
   ]
  },
  {
   "cell_type": "markdown",
   "metadata": {},
   "source": [
    "<h2>Level Distribution</h2>\n",
    "\n",
    "I wonder what the level distribution is for all of these Pokemon."
   ]
  },
  {
   "cell_type": "code",
   "execution_count": 5,
   "metadata": {
    "collapsed": false
   },
   "outputs": [
    {
     "data": {},
     "metadata": {},
     "output_type": "display_data"
    },
    {
     "data": {
      "image/png": "[encoded data removed]",
      "text/plain": [
       "plot without title"
      ]
     },
     "metadata": {},
     "output_type": "display_data"
    }
   ],
   "source": [
    "options(repr.plot.width=4, repr.plot.height=3)\n",
    "\n",
    "leveldist <- ggplot(data.frame(Level), aes(x=Level))\n",
    "leveldist + geom_histogram(binwidth=10, colour=\"black\", fill=\"white\")"
   ]
  },
  {
   "cell_type": "markdown",
   "metadata": {},
   "source": [
    "Wow, the data is super skewed to the lower levels. Let's view this distribution at a log scale instead."
   ]
  },
  {
   "cell_type": "code",
   "execution_count": 6,
   "metadata": {
    "collapsed": false
   },
   "outputs": [
    {
     "data": {},
     "metadata": {},
     "output_type": "display_data"
    },
    {
     "data": {
      "image/png": "[encoded data removed]",
      "text/plain": [
       "plot without title"
      ]
     },
     "metadata": {},
     "output_type": "display_data"
    }
   ],
   "source": [
    "leveldist + geom_histogram(binwidth=10, colour=\"black\", fill=\"white\") + scale_y_log10()"
   ]
  },
  {
   "cell_type": "markdown",
   "metadata": {},
   "source": [
    "That certainly looks a lot better, but it doesn't answer *why* the data are so skewed towards the lower levels. I wonder how many received Pokemon were hatched from eggs..."
   ]
  },
  {
   "cell_type": "code",
   "execution_count": 7,
   "metadata": {
    "collapsed": false
   },
   "outputs": [
    {
     "data": {
      "text/html": [
       "208"
      ],
      "text/latex": [
       "208"
      ],
      "text/markdown": [
       "208"
      ],
      "text/plain": [
       "[1] 208"
      ]
     },
     "metadata": {},
     "output_type": "display_data"
    }
   ],
   "source": [
    "eggs <- wtdata[Level.Met==1,]\n",
    "noneggs <- wtdata[Level.Met!=1,]\n",
    "nrow(eggs)"
   ]
  },
  {
   "cell_type": "markdown",
   "metadata": {},
   "source": [
    "Well... that certainly is a lot of eggs. Let's see how the data look *without* all the eggs."
   ]
  },
  {
   "cell_type": "code",
   "execution_count": 8,
   "metadata": {
    "collapsed": false
   },
   "outputs": [
    {
     "data": {},
     "metadata": {},
     "output_type": "display_data"
    },
    {
     "data": {
      "image/png": "[encoded data removed]",
      "text/plain": [
       "plot without title"
      ]
     },
     "metadata": {},
     "output_type": "display_data"
    }
   ],
   "source": [
    "leveldistnoeggs <- ggplot(data.frame(noneggs$Level), aes(x=noneggs$Level))\n",
    "leveldistnoeggs + geom_histogram(binwidth=10, colour=\"black\", fill=\"white\") + labs(x=\"Non-eggs Level\")"
   ]
  },
  {
   "cell_type": "markdown",
   "metadata": {},
   "source": [
    "Alright, neat! Looks like the data are still skewed towards the lower levels but this histogram looks a lot nicer than the one including the eggs. However, this brings up a question: how many people just Wonder Trade away their eggs as soon as they've hatched?"
   ]
  },
  {
   "cell_type": "code",
   "execution_count": 9,
   "metadata": {
    "collapsed": false
   },
   "outputs": [
    {
     "data": {
      "text/html": [
       "4"
      ],
      "text/latex": [
       "4"
      ],
      "text/markdown": [
       "4"
      ],
      "text/plain": [
       "[1] 4"
      ]
     },
     "metadata": {},
     "output_type": "display_data"
    }
   ],
   "source": [
    "length(which(Level.Met==1 & Level!=1))"
   ]
  },
  {
   "cell_type": "markdown",
   "metadata": {},
   "source": [
    "Out of 208 Pokemon hatched from eggs, only 4 were ever leveled up past level 1. Kind of sad when you think about it...\n",
    "\n",
    "Anyway, I wonder how much the Pokemon levels varied by day?"
   ]
  },
  {
   "cell_type": "code",
   "execution_count": 10,
   "metadata": {
    "collapsed": false
   },
   "outputs": [
    {
     "data": {
      "text/html": [
       "<table>\n",
       "<thead><tr><th></th><th scope=col>Date</th><th scope=col>Median Level</th></tr></thead>\n",
       "<tbody>\n",
       "\t<tr><th scope=row>1</th><td>12/13/16</td><td>11      </td></tr>\n",
       "\t<tr><th scope=row>2</th><td>12/14/16</td><td>10      </td></tr>\n",
       "\t<tr><th scope=row>3</th><td>12/15/16</td><td>1       </td></tr>\n",
       "\t<tr><th scope=row>4</th><td>12/16/16</td><td>7       </td></tr>\n",
       "\t<tr><th scope=row>5</th><td>12/17/16</td><td>5       </td></tr>\n",
       "\t<tr><th scope=row>6</th><td>12/18/16</td><td>7       </td></tr>\n",
       "</tbody>\n",
       "</table>\n"
      ],
      "text/latex": [
       "\\begin{tabular}{r|ll}\n",
       "  & Date & Median Level\\\\\n",
       "\\hline\n",
       "\t1 & 12/13/16 & 11      \\\\\n",
       "\t2 & 12/14/16 & 10      \\\\\n",
       "\t3 & 12/15/16 & 1       \\\\\n",
       "\t4 & 12/16/16 & 7       \\\\\n",
       "\t5 & 12/17/16 & 5       \\\\\n",
       "\t6 & 12/18/16 & 7       \\\\\n",
       "\\end{tabular}\n"
      ],
      "text/plain": [
       "      Date Median Level\n",
       "1 12/13/16           11\n",
       "2 12/14/16           10\n",
       "3 12/15/16            1\n",
       "4 12/16/16            7\n",
       "5 12/17/16            5\n",
       "6 12/18/16            7"
      ]
     },
     "metadata": {},
     "output_type": "display_data"
    }
   ],
   "source": [
    "median_level_bydate <- aggregate(Level, by=list(Date), FUN=median)\n",
    "colnames(median_level_bydate) <- c(\"Date\", \"Median Level\")\n",
    "median_level_bydate"
   ]
  },
  {
   "cell_type": "markdown",
   "metadata": {},
   "source": [
    "Interesting! Looks like there were a lot of eggs on December 15th!"
   ]
  },
  {
   "cell_type": "markdown",
   "metadata": {},
   "source": [
    "<h2>Gender</h2>\n",
    "\n",
    "Let's take a look at the gender distribution of all the received Pokemon."
   ]
  },
  {
   "cell_type": "code",
   "execution_count": 11,
   "metadata": {
    "collapsed": false
   },
   "outputs": [
    {
     "data": {
      "text/plain": [
       " Gender \n",
       " F:210  \n",
       " M:261  \n",
       " N: 29  "
      ]
     },
     "metadata": {},
     "output_type": "display_data"
    }
   ],
   "source": [
    "summary(data.frame(Gender))"
   ]
  },
  {
   "cell_type": "markdown",
   "metadata": {},
   "source": [
    "That's quite a lot more males than I would have expected. My guess was that there'd be a relatively equal number of males and females with a small number of genderless Pokemon. Do you think there's any relationship between level and gender?"
   ]
  },
  {
   "cell_type": "code",
   "execution_count": 12,
   "metadata": {
    "collapsed": false
   },
   "outputs": [
    {
     "data": {
      "text/plain": [
       "\n",
       "\tWelch Two Sample t-test\n",
       "\n",
       "data:  Level[Gender == \"M\"] and Level[Gender == \"F\"]\n",
       "t = -0.80327, df = 448.78, p-value = 0.4222\n",
       "alternative hypothesis: true difference in means is not equal to 0\n",
       "95 percent confidence interval:\n",
       " -3.373206  1.415790\n",
       "sample estimates:\n",
       "mean of x mean of y \n",
       " 10.22605  11.20476 \n"
      ]
     },
     "metadata": {},
     "output_type": "display_data"
    }
   ],
   "source": [
    "t.test(Level[Gender==\"M\"], Level[Gender==\"F\"])"
   ]
  },
  {
   "cell_type": "markdown",
   "metadata": {},
   "source": [
    "A p-value of 0.4222 means we fail to reject the null hypothesis. I guess we can't draw any conclusions about gender vs. level for this dataset."
   ]
  },
  {
   "cell_type": "markdown",
   "metadata": {},
   "source": [
    "<h2>Types</h2>\n",
    "\n",
    "One of the most important parts of Pokemon is what type(s) they are. Let's look at an overview of the type distribution of the received Pokemon."
   ]
  },
  {
   "cell_type": "code",
   "execution_count": 13,
   "metadata": {
    "collapsed": false
   },
   "outputs": [
    {
     "data": {
      "text/html": [
       "<table>\n",
       "<thead><tr><th></th><th scope=col>Type</th><th scope=col>Freq</th></tr></thead>\n",
       "<tbody>\n",
       "\t<tr><th scope=row>1</th><td>Bug</td><td>46 </td></tr>\n",
       "\t<tr><th scope=row>2</th><td>Dark</td><td>48  </td></tr>\n",
       "\t<tr><th scope=row>3</th><td>Dragon</td><td>25    </td></tr>\n",
       "\t<tr><th scope=row>4</th><td>Electric</td><td>28      </td></tr>\n",
       "\t<tr><th scope=row>5</th><td>Fairy</td><td>37   </td></tr>\n",
       "\t<tr><th scope=row>6</th><td>Fighting</td><td>18      </td></tr>\n",
       "\t<tr><th scope=row>7</th><td>Fire</td><td>32  </td></tr>\n",
       "\t<tr><th scope=row>8</th><td>Flying</td><td>97    </td></tr>\n",
       "\t<tr><th scope=row>9</th><td>Ghost</td><td>32   </td></tr>\n",
       "\t<tr><th scope=row>10</th><td>Grass</td><td>27   </td></tr>\n",
       "\t<tr><th scope=row>11</th><td>Ground</td><td>36    </td></tr>\n",
       "\t<tr><th scope=row>12</th><td>Ice</td><td>20 </td></tr>\n",
       "\t<tr><th scope=row>13</th><td>Normal</td><td>93    </td></tr>\n",
       "\t<tr><th scope=row>14</th><td>Poison</td><td>39    </td></tr>\n",
       "\t<tr><th scope=row>15</th><td>Psychic</td><td>37     </td></tr>\n",
       "\t<tr><th scope=row>16</th><td>Rock</td><td>27  </td></tr>\n",
       "\t<tr><th scope=row>17</th><td>Steel</td><td>35   </td></tr>\n",
       "\t<tr><th scope=row>18</th><td>Water</td><td>88   </td></tr>\n",
       "</tbody>\n",
       "</table>\n"
      ],
      "text/latex": [
       "\\begin{tabular}{r|ll}\n",
       "  & Type & Freq\\\\\n",
       "\\hline\n",
       "\t1 & Bug & 46 \\\\\n",
       "\t2 & Dark & 48  \\\\\n",
       "\t3 & Dragon & 25    \\\\\n",
       "\t4 & Electric & 28      \\\\\n",
       "\t5 & Fairy & 37   \\\\\n",
       "\t6 & Fighting & 18      \\\\\n",
       "\t7 & Fire & 32  \\\\\n",
       "\t8 & Flying & 97    \\\\\n",
       "\t9 & Ghost & 32   \\\\\n",
       "\t10 & Grass & 27   \\\\\n",
       "\t11 & Ground & 36    \\\\\n",
       "\t12 & Ice & 20 \\\\\n",
       "\t13 & Normal & 93    \\\\\n",
       "\t14 & Poison & 39    \\\\\n",
       "\t15 & Psychic & 37     \\\\\n",
       "\t16 & Rock & 27  \\\\\n",
       "\t17 & Steel & 35   \\\\\n",
       "\t18 & Water & 88   \\\\\n",
       "\\end{tabular}\n"
      ],
      "text/plain": [
       "       Type Freq\n",
       "1       Bug   46\n",
       "2      Dark   48\n",
       "3    Dragon   25\n",
       "4  Electric   28\n",
       "5     Fairy   37\n",
       "6  Fighting   18\n",
       "7      Fire   32\n",
       "8    Flying   97\n",
       "9     Ghost   32\n",
       "10    Grass   27\n",
       "11   Ground   36\n",
       "12      Ice   20\n",
       "13   Normal   93\n",
       "14   Poison   39\n",
       "15  Psychic   37\n",
       "16     Rock   27\n",
       "17    Steel   35\n",
       "18    Water   88"
      ]
     },
     "metadata": {},
     "output_type": "display_data"
    }
   ],
   "source": [
    "Type1 <- as.character(Type1)\n",
    "Type2 <- as.character(Type2)\n",
    "\n",
    "types <- c(Type1, Type2[Type2!=\"\"])\n",
    "typedf <- data.frame(table(types))\n",
    "colnames(typedf) <- c(\"Type\", \"Freq\")\n",
    "typedf"
   ]
  },
  {
   "cell_type": "markdown",
   "metadata": {},
   "source": [
    "From a cursory overview it looks like Flying and Normal types make up a plurality of types. Let's see this in barplot form."
   ]
  },
  {
   "cell_type": "code",
   "execution_count": 14,
   "metadata": {
    "collapsed": false
   },
   "outputs": [
    {
     "data": {},
     "metadata": {},
     "output_type": "display_data"
    },
    {
     "data": {
      "image/png": "[encoded data removed]",
      "text/plain": [
       "plot without title"
      ]
     },
     "metadata": {},
     "output_type": "display_data"
    }
   ],
   "source": [
    "typeplot <- ggplot(data=typedf, aes(x=Type, y=Freq))\n",
    "typeplot + geom_bar(colour=\"black\", fill=\"grey\", stat=\"identity\") + coord_flip()"
   ]
  },
  {
   "cell_type": "markdown",
   "metadata": {},
   "source": [
    "<h2>Regions</h2>\n",
    "\n",
    "I traded with so many people from so many countries during this process. It'll be interesting to see all the different places people are playing Pokemon."
   ]
  },
  {
   "cell_type": "code",
   "execution_count": 15,
   "metadata": {
    "collapsed": false
   },
   "outputs": [
    {
     "data": {
      "text/html": [
       "<table>\n",
       "<thead><tr><th></th><th scope=col>Trainer Region</th><th scope=col>Freq</th></tr></thead>\n",
       "<tbody>\n",
       "\t<tr><th scope=row>1</th><td>Anguilla</td><td>2       </td></tr>\n",
       "\t<tr><th scope=row>2</th><td>Australia</td><td>2        </td></tr>\n",
       "\t<tr><th scope=row>3</th><td>Austria</td><td>3      </td></tr>\n",
       "\t<tr><th scope=row>4</th><td>Belgium</td><td>3      </td></tr>\n",
       "\t<tr><th scope=row>5</th><td>Brazil</td><td>5     </td></tr>\n",
       "\t<tr><th scope=row>6</th><td>Canada</td><td>15    </td></tr>\n",
       "\t<tr><th scope=row>7</th><td>Chile</td><td>1    </td></tr>\n",
       "\t<tr><th scope=row>8</th><td>Finland</td><td>3      </td></tr>\n",
       "\t<tr><th scope=row>9</th><td>France</td><td>27    </td></tr>\n",
       "\t<tr><th scope=row>10</th><td>Germany</td><td>43     </td></tr>\n",
       "\t<tr><th scope=row>11</th><td>Ireland</td><td>3      </td></tr>\n",
       "\t<tr><th scope=row>12</th><td>Italy</td><td>19   </td></tr>\n",
       "\t<tr><th scope=row>13</th><td>Japan</td><td>128  </td></tr>\n",
       "\t<tr><th scope=row>14</th><td>Mexico</td><td>7     </td></tr>\n",
       "\t<tr><th scope=row>15</th><td>Netherlands</td><td>7          </td></tr>\n",
       "\t<tr><th scope=row>16</th><td>New Zealand</td><td>1          </td></tr>\n",
       "\t<tr><th scope=row>17</th><td>Norway</td><td>2     </td></tr>\n",
       "\t<tr><th scope=row>18</th><td>Peru</td><td>3   </td></tr>\n",
       "\t<tr><th scope=row>19</th><td>Poland</td><td>1     </td></tr>\n",
       "\t<tr><th scope=row>20</th><td>Portugal</td><td>2       </td></tr>\n",
       "\t<tr><th scope=row>21</th><td>Russia</td><td>3     </td></tr>\n",
       "\t<tr><th scope=row>22</th><td>South Korea</td><td>6          </td></tr>\n",
       "\t<tr><th scope=row>23</th><td>Spain</td><td>24   </td></tr>\n",
       "\t<tr><th scope=row>24</th><td>Sweden</td><td>2     </td></tr>\n",
       "\t<tr><th scope=row>25</th><td>Switzerland</td><td>3          </td></tr>\n",
       "\t<tr><th scope=row>26</th><td>United Kingdom</td><td>32            </td></tr>\n",
       "\t<tr><th scope=row>27</th><td>United States</td><td>153          </td></tr>\n",
       "</tbody>\n",
       "</table>\n"
      ],
      "text/latex": [
       "\\begin{tabular}{r|ll}\n",
       "  & Trainer Region & Freq\\\\\n",
       "\\hline\n",
       "\t1 & Anguilla & 2       \\\\\n",
       "\t2 & Australia & 2        \\\\\n",
       "\t3 & Austria & 3      \\\\\n",
       "\t4 & Belgium & 3      \\\\\n",
       "\t5 & Brazil & 5     \\\\\n",
       "\t6 & Canada & 15    \\\\\n",
       "\t7 & Chile & 1    \\\\\n",
       "\t8 & Finland & 3      \\\\\n",
       "\t9 & France & 27    \\\\\n",
       "\t10 & Germany & 43     \\\\\n",
       "\t11 & Ireland & 3      \\\\\n",
       "\t12 & Italy & 19   \\\\\n",
       "\t13 & Japan & 128  \\\\\n",
       "\t14 & Mexico & 7     \\\\\n",
       "\t15 & Netherlands & 7          \\\\\n",
       "\t16 & New Zealand & 1          \\\\\n",
       "\t17 & Norway & 2     \\\\\n",
       "\t18 & Peru & 3   \\\\\n",
       "\t19 & Poland & 1     \\\\\n",
       "\t20 & Portugal & 2       \\\\\n",
       "\t21 & Russia & 3     \\\\\n",
       "\t22 & South Korea & 6          \\\\\n",
       "\t23 & Spain & 24   \\\\\n",
       "\t24 & Sweden & 2     \\\\\n",
       "\t25 & Switzerland & 3          \\\\\n",
       "\t26 & United Kingdom & 32            \\\\\n",
       "\t27 & United States & 153          \\\\\n",
       "\\end{tabular}\n"
      ],
      "text/plain": [
       "   Trainer Region Freq\n",
       "1        Anguilla    2\n",
       "2       Australia    2\n",
       "3         Austria    3\n",
       "4         Belgium    3\n",
       "5          Brazil    5\n",
       "6          Canada   15\n",
       "7           Chile    1\n",
       "8         Finland    3\n",
       "9          France   27\n",
       "10        Germany   43\n",
       "11        Ireland    3\n",
       "12          Italy   19\n",
       "13          Japan  128\n",
       "14         Mexico    7\n",
       "15    Netherlands    7\n",
       "16    New Zealand    1\n",
       "17         Norway    2\n",
       "18           Peru    3\n",
       "19         Poland    1\n",
       "20       Portugal    2\n",
       "21         Russia    3\n",
       "22    South Korea    6\n",
       "23          Spain   24\n",
       "24         Sweden    2\n",
       "25    Switzerland    3\n",
       "26 United Kingdom   32\n",
       "27  United States  153"
      ]
     },
     "metadata": {},
     "output_type": "display_data"
    }
   ],
   "source": [
    "tregiondf <- data.frame(table(Trainer.Region))\n",
    "colnames(tregiondf) <- c(\"Trainer Region\", \"Freq\")\n",
    "tregiondf"
   ]
  },
  {
   "cell_type": "markdown",
   "metadata": {},
   "source": [
    "Turns out I traded with people from 27 different countries (with Japan and U.S. being the most numerous by far). I wonder how many U.S. states were represented?"
   ]
  },
  {
   "cell_type": "code",
   "execution_count": 16,
   "metadata": {
    "collapsed": false
   },
   "outputs": [
    {
     "data": {
      "text/html": [
       "38"
      ],
      "text/latex": [
       "38"
      ],
      "text/markdown": [
       "38"
      ],
      "text/plain": [
       "[1] 38"
      ]
     },
     "metadata": {},
     "output_type": "display_data"
    }
   ],
   "source": [
    "trainerstates <- Trainer.Subregion[Trainer.Subregion!=\"\"]\n",
    "length(unique(trainerstates))"
   ]
  },
  {
   "cell_type": "markdown",
   "metadata": {},
   "source": [
    "Wow, 37 states (+DC)! Which ones weren't represented?"
   ]
  },
  {
   "cell_type": "code",
   "execution_count": 17,
   "metadata": {
    "collapsed": false
   },
   "outputs": [
    {
     "data": {
      "text/html": [
       "<ol class=list-inline>\n",
       "\t<li>'Arizona'</li>\n",
       "\t<li>'Arkansas'</li>\n",
       "\t<li>'Hawaii'</li>\n",
       "\t<li>'Iowa'</li>\n",
       "\t<li>'Kentucky'</li>\n",
       "\t<li>'Maine'</li>\n",
       "\t<li>'Nebraska'</li>\n",
       "\t<li>'New Mexico'</li>\n",
       "\t<li>'North Dakota'</li>\n",
       "\t<li>'Rhode Island'</li>\n",
       "\t<li>'South Dakota'</li>\n",
       "\t<li>'West Virginia'</li>\n",
       "\t<li>'Wyoming'</li>\n",
       "</ol>\n"
      ],
      "text/latex": [
       "\\begin{enumerate*}\n",
       "\\item 'Arizona'\n",
       "\\item 'Arkansas'\n",
       "\\item 'Hawaii'\n",
       "\\item 'Iowa'\n",
       "\\item 'Kentucky'\n",
       "\\item 'Maine'\n",
       "\\item 'Nebraska'\n",
       "\\item 'New Mexico'\n",
       "\\item 'North Dakota'\n",
       "\\item 'Rhode Island'\n",
       "\\item 'South Dakota'\n",
       "\\item 'West Virginia'\n",
       "\\item 'Wyoming'\n",
       "\\end{enumerate*}\n"
      ],
      "text/markdown": [
       "1. 'Arizona'\n",
       "2. 'Arkansas'\n",
       "3. 'Hawaii'\n",
       "4. 'Iowa'\n",
       "5. 'Kentucky'\n",
       "6. 'Maine'\n",
       "7. 'Nebraska'\n",
       "8. 'New Mexico'\n",
       "9. 'North Dakota'\n",
       "10. 'Rhode Island'\n",
       "11. 'South Dakota'\n",
       "12. 'West Virginia'\n",
       "13. 'Wyoming'\n",
       "\n",
       "\n"
      ],
      "text/plain": [
       " [1] \"Arizona\"       \"Arkansas\"      \"Hawaii\"        \"Iowa\"         \n",
       " [5] \"Kentucky\"      \"Maine\"         \"Nebraska\"      \"New Mexico\"   \n",
       " [9] \"North Dakota\"  \"Rhode Island\"  \"South Dakota\"  \"West Virginia\"\n",
       "[13] \"Wyoming\"      "
      ]
     },
     "metadata": {},
     "output_type": "display_data"
    }
   ],
   "source": [
    "data(state)\n",
    "setdiff(state.name, unique(Trainer.Subregion))"
   ]
  },
  {
   "cell_type": "markdown",
   "metadata": {},
   "source": [
    "Step it up, guys."
   ]
  },
  {
   "cell_type": "code",
   "execution_count": 18,
   "metadata": {
    "collapsed": false
   },
   "outputs": [
    {
     "data": {
      "text/html": [
       "<table>\n",
       "<thead><tr><th></th><th scope=col>State</th><th scope=col>Freq</th></tr></thead>\n",
       "<tbody>\n",
       "\t<tr><th scope=row>1</th><td>Alabama</td><td>1      </td></tr>\n",
       "\t<tr><th scope=row>2</th><td>Alaska</td><td>2     </td></tr>\n",
       "\t<tr><th scope=row>3</th><td>California</td><td>15        </td></tr>\n",
       "\t<tr><th scope=row>4</th><td>Colorado</td><td>3       </td></tr>\n",
       "\t<tr><th scope=row>5</th><td>Connecticut</td><td>2          </td></tr>\n",
       "\t<tr><th scope=row>6</th><td>DC</td><td>1 </td></tr>\n",
       "\t<tr><th scope=row>7</th><td>Delaware</td><td>1       </td></tr>\n",
       "\t<tr><th scope=row>8</th><td>Florida</td><td>9      </td></tr>\n",
       "\t<tr><th scope=row>9</th><td>Georgia</td><td>3      </td></tr>\n",
       "\t<tr><th scope=row>10</th><td>Idaho</td><td>1    </td></tr>\n",
       "\t<tr><th scope=row>11</th><td>Illinois</td><td>4       </td></tr>\n",
       "\t<tr><th scope=row>12</th><td>Indiana</td><td>4      </td></tr>\n",
       "\t<tr><th scope=row>13</th><td>Kansas</td><td>2     </td></tr>\n",
       "\t<tr><th scope=row>14</th><td>Louisiana</td><td>1        </td></tr>\n",
       "\t<tr><th scope=row>15</th><td>Maryland</td><td>1       </td></tr>\n",
       "\t<tr><th scope=row>16</th><td>Massachusetts</td><td>4            </td></tr>\n",
       "\t<tr><th scope=row>17</th><td>Michigan</td><td>4       </td></tr>\n",
       "\t<tr><th scope=row>18</th><td>Minnesota</td><td>1        </td></tr>\n",
       "\t<tr><th scope=row>19</th><td>Mississippi</td><td>1          </td></tr>\n",
       "\t<tr><th scope=row>20</th><td>Missouri</td><td>3       </td></tr>\n",
       "\t<tr><th scope=row>21</th><td>Montana</td><td>1      </td></tr>\n",
       "\t<tr><th scope=row>22</th><td>Nevada</td><td>2     </td></tr>\n",
       "\t<tr><th scope=row>23</th><td>New Hampshire</td><td>1            </td></tr>\n",
       "\t<tr><th scope=row>24</th><td>New Jersey</td><td>4         </td></tr>\n",
       "\t<tr><th scope=row>25</th><td>New York</td><td>16      </td></tr>\n",
       "\t<tr><th scope=row>26</th><td>North Carolina</td><td>7             </td></tr>\n",
       "\t<tr><th scope=row>27</th><td>Ohio</td><td>7   </td></tr>\n",
       "\t<tr><th scope=row>28</th><td>Oklahoma</td><td>2       </td></tr>\n",
       "\t<tr><th scope=row>29</th><td>Oregon</td><td>2     </td></tr>\n",
       "\t<tr><th scope=row>30</th><td>Pennsylvania</td><td>8           </td></tr>\n",
       "\t<tr><th scope=row>31</th><td>South Carolina</td><td>1             </td></tr>\n",
       "\t<tr><th scope=row>32</th><td>Tennessee</td><td>2        </td></tr>\n",
       "\t<tr><th scope=row>33</th><td>Texas</td><td>13   </td></tr>\n",
       "\t<tr><th scope=row>34</th><td>Utah</td><td>1   </td></tr>\n",
       "\t<tr><th scope=row>35</th><td>Vermont</td><td>1      </td></tr>\n",
       "\t<tr><th scope=row>36</th><td>Virginia</td><td>5       </td></tr>\n",
       "\t<tr><th scope=row>37</th><td>Washington</td><td>4         </td></tr>\n",
       "\t<tr><th scope=row>38</th><td>Wisconsin</td><td>3        </td></tr>\n",
       "</tbody>\n",
       "</table>\n"
      ],
      "text/latex": [
       "\\begin{tabular}{r|ll}\n",
       "  & State & Freq\\\\\n",
       "\\hline\n",
       "\t1 & Alabama & 1      \\\\\n",
       "\t2 & Alaska & 2     \\\\\n",
       "\t3 & California & 15        \\\\\n",
       "\t4 & Colorado & 3       \\\\\n",
       "\t5 & Connecticut & 2          \\\\\n",
       "\t6 & DC & 1 \\\\\n",
       "\t7 & Delaware & 1       \\\\\n",
       "\t8 & Florida & 9      \\\\\n",
       "\t9 & Georgia & 3      \\\\\n",
       "\t10 & Idaho & 1    \\\\\n",
       "\t11 & Illinois & 4       \\\\\n",
       "\t12 & Indiana & 4      \\\\\n",
       "\t13 & Kansas & 2     \\\\\n",
       "\t14 & Louisiana & 1        \\\\\n",
       "\t15 & Maryland & 1       \\\\\n",
       "\t16 & Massachusetts & 4            \\\\\n",
       "\t17 & Michigan & 4       \\\\\n",
       "\t18 & Minnesota & 1        \\\\\n",
       "\t19 & Mississippi & 1          \\\\\n",
       "\t20 & Missouri & 3       \\\\\n",
       "\t21 & Montana & 1      \\\\\n",
       "\t22 & Nevada & 2     \\\\\n",
       "\t23 & New Hampshire & 1            \\\\\n",
       "\t24 & New Jersey & 4         \\\\\n",
       "\t25 & New York & 16      \\\\\n",
       "\t26 & North Carolina & 7             \\\\\n",
       "\t27 & Ohio & 7   \\\\\n",
       "\t28 & Oklahoma & 2       \\\\\n",
       "\t29 & Oregon & 2     \\\\\n",
       "\t30 & Pennsylvania & 8           \\\\\n",
       "\t31 & South Carolina & 1             \\\\\n",
       "\t32 & Tennessee & 2        \\\\\n",
       "\t33 & Texas & 13   \\\\\n",
       "\t34 & Utah & 1   \\\\\n",
       "\t35 & Vermont & 1      \\\\\n",
       "\t36 & Virginia & 5       \\\\\n",
       "\t37 & Washington & 4         \\\\\n",
       "\t38 & Wisconsin & 3        \\\\\n",
       "\\end{tabular}\n"
      ],
      "text/plain": [
       "            State Freq\n",
       "1         Alabama    1\n",
       "2          Alaska    2\n",
       "3      California   15\n",
       "4        Colorado    3\n",
       "5     Connecticut    2\n",
       "6              DC    1\n",
       "7        Delaware    1\n",
       "8         Florida    9\n",
       "9         Georgia    3\n",
       "10          Idaho    1\n",
       "11       Illinois    4\n",
       "12        Indiana    4\n",
       "13         Kansas    2\n",
       "14      Louisiana    1\n",
       "15       Maryland    1\n",
       "16  Massachusetts    4\n",
       "17       Michigan    4\n",
       "18      Minnesota    1\n",
       "19    Mississippi    1\n",
       "20       Missouri    3\n",
       "21        Montana    1\n",
       "22         Nevada    2\n",
       "23  New Hampshire    1\n",
       "24     New Jersey    4\n",
       "25       New York   16\n",
       "26 North Carolina    7\n",
       "27           Ohio    7\n",
       "28       Oklahoma    2\n",
       "29         Oregon    2\n",
       "30   Pennsylvania    8\n",
       "31 South Carolina    1\n",
       "32      Tennessee    2\n",
       "33          Texas   13\n",
       "34           Utah    1\n",
       "35        Vermont    1\n",
       "36       Virginia    5\n",
       "37     Washington    4\n",
       "38      Wisconsin    3"
      ]
     },
     "metadata": {},
     "output_type": "display_data"
    }
   ],
   "source": [
    "trainerstatedf <- data.frame(table(droplevels(Trainer.Subregion[Trainer.Subregion!=\"\"])))\n",
    "colnames(trainerstatedf) <- c(\"State\", \"Freq\")\n",
    "trainerstatedf"
   ]
  },
  {
   "cell_type": "markdown",
   "metadata": {},
   "source": [
    "Looks like on average the most populous states had the most Wonder Trades. No surprise there."
   ]
  },
  {
   "cell_type": "markdown",
   "metadata": {},
   "source": [
    "<h2>Nature</h2>\n",
    "\n",
    "There are a total of 25 natures available to Pokemon. 20 of these natures boost one stat while decreasing another. 5 of these natures are neutral and do not affect the Pokemon's stats at all."
   ]
  },
  {
   "cell_type": "code",
   "execution_count": 19,
   "metadata": {
    "collapsed": false
   },
   "outputs": [
    {
     "data": {},
     "metadata": {},
     "output_type": "display_data"
    },
    {
     "data": {
      "image/png": "[encoded data removed]",
      "text/plain": [
       "plot without title"
      ]
     },
     "metadata": {},
     "output_type": "display_data"
    }
   ],
   "source": [
    "naturedf <- data.frame(table(Nature))\n",
    "natureplot <- ggplot(data=naturedf, aes(x=Nature, y=Freq))\n",
    "natureplot + geom_bar(stat=\"identity\", colour=\"black\", fill=\"grey\") + coord_flip()"
   ]
  },
  {
   "cell_type": "markdown",
   "metadata": {},
   "source": [
    "What's interesting here is that the most common natures are Adamant, Timid, and Jolly. Maybe this is because these are all very common natures in the competitive scene, so many 'breedjects' have these natures."
   ]
  },
  {
   "cell_type": "code",
   "execution_count": 20,
   "metadata": {
    "collapsed": false
   },
   "outputs": [
    {
     "data": {
      "text/html": [
       "9.4"
      ],
      "text/latex": [
       "9.4"
      ],
      "text/markdown": [
       "9.4"
      ],
      "text/plain": [
       "[1] 9.4"
      ]
     },
     "metadata": {},
     "output_type": "display_data"
    }
   ],
   "source": [
    "length(which(Nature==\"Adamant\"))/length(Nature)*100"
   ]
  },
  {
   "cell_type": "markdown",
   "metadata": {},
   "source": [
    "A whopping *9.4%* of the Pokemon I received were Adamant nature. That's pretty insane considering there are 25 natures."
   ]
  },
  {
   "cell_type": "markdown",
   "metadata": {},
   "source": [
    "<h2>Pokeball</h2>\n",
    "\n",
    "The type of Pokeball in which the received Pokemon was in could give insight into Pokemon catching/hatching habits."
   ]
  },
  {
   "cell_type": "code",
   "execution_count": 21,
   "metadata": {
    "collapsed": false
   },
   "outputs": [
    {
     "data": {
      "text/html": [
       "<table>\n",
       "<thead><tr><th></th><th scope=col>Pokeball</th><th scope=col>Freq</th></tr></thead>\n",
       "<tbody>\n",
       "\t<tr><th scope=row>1</th><td>Beast</td><td>15   </td></tr>\n",
       "\t<tr><th scope=row>2</th><td>Dive</td><td>12  </td></tr>\n",
       "\t<tr><th scope=row>3</th><td>Dusk</td><td>16  </td></tr>\n",
       "\t<tr><th scope=row>4</th><td>Great</td><td>58   </td></tr>\n",
       "\t<tr><th scope=row>5</th><td>Heal</td><td>7   </td></tr>\n",
       "\t<tr><th scope=row>6</th><td>Heavy</td><td>3    </td></tr>\n",
       "\t<tr><th scope=row>7</th><td>Love</td><td>3   </td></tr>\n",
       "\t<tr><th scope=row>8</th><td>Luxury</td><td>9     </td></tr>\n",
       "\t<tr><th scope=row>9</th><td>Master</td><td>1     </td></tr>\n",
       "\t<tr><th scope=row>10</th><td>Moon</td><td>5   </td></tr>\n",
       "\t<tr><th scope=row>11</th><td>Nest</td><td>15  </td></tr>\n",
       "\t<tr><th scope=row>12</th><td>Net</td><td>10 </td></tr>\n",
       "\t<tr><th scope=row>13</th><td>Poke</td><td>215 </td></tr>\n",
       "\t<tr><th scope=row>14</th><td>Premier</td><td>12     </td></tr>\n",
       "\t<tr><th scope=row>15</th><td>Quick</td><td>53   </td></tr>\n",
       "\t<tr><th scope=row>16</th><td>Repeat</td><td>5     </td></tr>\n",
       "\t<tr><th scope=row>17</th><td>Timer</td><td>5    </td></tr>\n",
       "\t<tr><th scope=row>18</th><td>Ultra</td><td>56   </td></tr>\n",
       "</tbody>\n",
       "</table>\n"
      ],
      "text/latex": [
       "\\begin{tabular}{r|ll}\n",
       "  & Pokeball & Freq\\\\\n",
       "\\hline\n",
       "\t1 & Beast & 15   \\\\\n",
       "\t2 & Dive & 12  \\\\\n",
       "\t3 & Dusk & 16  \\\\\n",
       "\t4 & Great & 58   \\\\\n",
       "\t5 & Heal & 7   \\\\\n",
       "\t6 & Heavy & 3    \\\\\n",
       "\t7 & Love & 3   \\\\\n",
       "\t8 & Luxury & 9     \\\\\n",
       "\t9 & Master & 1     \\\\\n",
       "\t10 & Moon & 5   \\\\\n",
       "\t11 & Nest & 15  \\\\\n",
       "\t12 & Net & 10 \\\\\n",
       "\t13 & Poke & 215 \\\\\n",
       "\t14 & Premier & 12     \\\\\n",
       "\t15 & Quick & 53   \\\\\n",
       "\t16 & Repeat & 5     \\\\\n",
       "\t17 & Timer & 5    \\\\\n",
       "\t18 & Ultra & 56   \\\\\n",
       "\\end{tabular}\n"
      ],
      "text/plain": [
       "   Pokeball Freq\n",
       "1     Beast   15\n",
       "2      Dive   12\n",
       "3      Dusk   16\n",
       "4     Great   58\n",
       "5      Heal    7\n",
       "6     Heavy    3\n",
       "7      Love    3\n",
       "8    Luxury    9\n",
       "9    Master    1\n",
       "10     Moon    5\n",
       "11     Nest   15\n",
       "12      Net   10\n",
       "13     Poke  215\n",
       "14  Premier   12\n",
       "15    Quick   53\n",
       "16   Repeat    5\n",
       "17    Timer    5\n",
       "18    Ultra   56"
      ]
     },
     "metadata": {},
     "output_type": "display_data"
    }
   ],
   "source": [
    "balldf <- data.frame(table(Pokeball))\n",
    "balldf"
   ]
  },
  {
   "cell_type": "markdown",
   "metadata": {},
   "source": [
    "Looks like the Pokeball was by far the most common ball, followed by Great, Ultra, and Quick. The Quick Ball is incredibly useful as a Pokeball because it makes catching Pokemon significantly easier as you can just toss one out at the beginning of battle to capture a Pokemon.\n",
    "\n",
    "One thing that surprised me was the number of Pokemon in Beast Balls. Nowadays it is very common for people to try to catch pokemon other than Ultra Beasts with Beast Balls, likely because of the cool design.\n",
    "<img src=\"beastball.jpg\" alt=\"Beast Ball\">"
   ]
  },
  {
   "cell_type": "code",
   "execution_count": 22,
   "metadata": {
    "collapsed": false
   },
   "outputs": [
    {
     "data": {
      "text/html": [
       "<table>\n",
       "<thead><tr><th></th><th scope=col>Pokemon</th><th scope=col>Freq</th></tr></thead>\n",
       "<tbody>\n",
       "\t<tr><th scope=row>1</th><td>A.Grimer</td><td>1       </td></tr>\n",
       "\t<tr><th scope=row>2</th><td>Absol</td><td>1    </td></tr>\n",
       "\t<tr><th scope=row>3</th><td>Bagon</td><td>1    </td></tr>\n",
       "\t<tr><th scope=row>4</th><td>Beldum</td><td>1     </td></tr>\n",
       "\t<tr><th scope=row>5</th><td>Deino</td><td>1    </td></tr>\n",
       "\t<tr><th scope=row>6</th><td>Gible</td><td>5    </td></tr>\n",
       "\t<tr><th scope=row>7</th><td>Magikarp</td><td>1       </td></tr>\n",
       "\t<tr><th scope=row>8</th><td>Mareanie</td><td>1       </td></tr>\n",
       "\t<tr><th scope=row>9</th><td>Riolu</td><td>1    </td></tr>\n",
       "\t<tr><th scope=row>10</th><td>Shinx</td><td>1    </td></tr>\n",
       "\t<tr><th scope=row>11</th><td>Wingull</td><td>1      </td></tr>\n",
       "</tbody>\n",
       "</table>\n"
      ],
      "text/latex": [
       "\\begin{tabular}{r|ll}\n",
       "  & Pokemon & Freq\\\\\n",
       "\\hline\n",
       "\t1 & A.Grimer & 1       \\\\\n",
       "\t2 & Absol & 1    \\\\\n",
       "\t3 & Bagon & 1    \\\\\n",
       "\t4 & Beldum & 1     \\\\\n",
       "\t5 & Deino & 1    \\\\\n",
       "\t6 & Gible & 5    \\\\\n",
       "\t7 & Magikarp & 1       \\\\\n",
       "\t8 & Mareanie & 1       \\\\\n",
       "\t9 & Riolu & 1    \\\\\n",
       "\t10 & Shinx & 1    \\\\\n",
       "\t11 & Wingull & 1      \\\\\n",
       "\\end{tabular}\n"
      ],
      "text/plain": [
       "    Pokemon Freq\n",
       "1  A.Grimer    1\n",
       "2     Absol    1\n",
       "3     Bagon    1\n",
       "4    Beldum    1\n",
       "5     Deino    1\n",
       "6     Gible    5\n",
       "7  Magikarp    1\n",
       "8  Mareanie    1\n",
       "9     Riolu    1\n",
       "10    Shinx    1\n",
       "11  Wingull    1"
      ]
     },
     "metadata": {},
     "output_type": "display_data"
    }
   ],
   "source": [
    "beastballfreq <- data.frame(table(droplevels(Pokemon[Pokeball==\"Beast\"])))\n",
    "colnames(beastballfreq) <- c(\"Pokemon\", \"Freq\")\n",
    "beastballfreq"
   ]
  },
  {
   "cell_type": "markdown",
   "metadata": {},
   "source": [
    "Looks like a lot of people want Beast Ball Garchomps judging by the frequency of Gibles."
   ]
  },
  {
   "cell_type": "markdown",
   "metadata": {},
   "source": [
    "<h2>Perfect IVs</h2>\n",
    "\n",
    "For those who take part in the competitive Pokemon scene, IVs are crucial. In most cases, a competitive Pokemon will have at least 5 \"perfect\" IVs, meaning their value is the maximum (31). I wanted to see how many Pokemon I received had any perfect IVs."
   ]
  },
  {
   "cell_type": "code",
   "execution_count": 23,
   "metadata": {
    "collapsed": false
   },
   "outputs": [
    {
     "data": {
      "text/html": [
       "<table>\n",
       "<thead><tr><th></th><th scope=col>Number of Perfect IVs</th><th scope=col>Freq</th></tr></thead>\n",
       "<tbody>\n",
       "\t<tr><th scope=row>1</th><td>0  </td><td>301</td></tr>\n",
       "\t<tr><th scope=row>2</th><td>1 </td><td>85</td></tr>\n",
       "\t<tr><th scope=row>3</th><td>2 </td><td>31</td></tr>\n",
       "\t<tr><th scope=row>4</th><td>3 </td><td>37</td></tr>\n",
       "\t<tr><th scope=row>5</th><td>4 </td><td>25</td></tr>\n",
       "\t<tr><th scope=row>6</th><td>5 </td><td>19</td></tr>\n",
       "\t<tr><th scope=row>7</th><td>6</td><td>2</td></tr>\n",
       "</tbody>\n",
       "</table>\n"
      ],
      "text/latex": [
       "\\begin{tabular}{r|ll}\n",
       "  & Number of Perfect IVs & Freq\\\\\n",
       "\\hline\n",
       "\t1 & 0   & 301\\\\\n",
       "\t2 & 1  & 85\\\\\n",
       "\t3 & 2  & 31\\\\\n",
       "\t4 & 3  & 37\\\\\n",
       "\t5 & 4  & 25\\\\\n",
       "\t6 & 5  & 19\\\\\n",
       "\t7 & 6 & 2\\\\\n",
       "\\end{tabular}\n"
      ],
      "text/plain": [
       "  Number of Perfect IVs Freq\n",
       "1                     0  301\n",
       "2                     1   85\n",
       "3                     2   31\n",
       "4                     3   37\n",
       "5                     4   25\n",
       "6                     5   19\n",
       "7                     6    2"
      ]
     },
     "metadata": {},
     "output_type": "display_data"
    }
   ],
   "source": [
    "ivdf <- data.frame(table(Perfect.IVs))\n",
    "colnames(ivdf) <- c(\"Number of Perfect IVs\", \"Freq\")\n",
    "ivdf"
   ]
  },
  {
   "cell_type": "markdown",
   "metadata": {},
   "source": [
    "As expected, the majority of Pokemon had 0 perfect IVs. Without a concerted effort to obtain perfect IVs, it is unlikely that any Pokemon has an IV stat of 31. However, one of the main purposes of breeding is to obtain a Pokemon with (usually 5) perfect IVs. Let's see the perfect IV distriubtion of Pokemon hatched from eggs."
   ]
  },
  {
   "cell_type": "code",
   "execution_count": 24,
   "metadata": {
    "collapsed": false
   },
   "outputs": [
    {
     "data": {
      "text/html": [
       "<table>\n",
       "<thead><tr><th></th><th scope=col>Number of Perfect IVs (Hatched)</th><th scope=col>Freq</th></tr></thead>\n",
       "<tbody>\n",
       "\t<tr><th scope=row>1</th><td>0 </td><td>69</td></tr>\n",
       "\t<tr><th scope=row>2</th><td>1 </td><td>32</td></tr>\n",
       "\t<tr><th scope=row>3</th><td>2 </td><td>26</td></tr>\n",
       "\t<tr><th scope=row>4</th><td>3 </td><td>36</td></tr>\n",
       "\t<tr><th scope=row>5</th><td>4 </td><td>25</td></tr>\n",
       "\t<tr><th scope=row>6</th><td>5 </td><td>19</td></tr>\n",
       "\t<tr><th scope=row>7</th><td>6</td><td>1</td></tr>\n",
       "</tbody>\n",
       "</table>\n"
      ],
      "text/latex": [
       "\\begin{tabular}{r|ll}\n",
       "  & Number of Perfect IVs (Hatched) & Freq\\\\\n",
       "\\hline\n",
       "\t1 & 0  & 69\\\\\n",
       "\t2 & 1  & 32\\\\\n",
       "\t3 & 2  & 26\\\\\n",
       "\t4 & 3  & 36\\\\\n",
       "\t5 & 4  & 25\\\\\n",
       "\t6 & 5  & 19\\\\\n",
       "\t7 & 6 & 1\\\\\n",
       "\\end{tabular}\n"
      ],
      "text/plain": [
       "  Number of Perfect IVs (Hatched) Freq\n",
       "1                               0   69\n",
       "2                               1   32\n",
       "3                               2   26\n",
       "4                               3   36\n",
       "5                               4   25\n",
       "6                               5   19\n",
       "7                               6    1"
      ]
     },
     "metadata": {},
     "output_type": "display_data"
    }
   ],
   "source": [
    "eggivdf <- data.frame(table(Perfect.IVs[Level.Met==1]))\n",
    "colnames(eggivdf) <- c(\"Number of Perfect IVs (Hatched)\", \"Freq\")\n",
    "eggivdf"
   ]
  },
  {
   "cell_type": "markdown",
   "metadata": {},
   "source": [
    "As you can see, the majority of the Pokemon with multiple perfect IVs were hatched from eggs. Let's do a t-test to see how the number of perfect IVs compares between hatched Pokemon and non-hatched Pokemon."
   ]
  },
  {
   "cell_type": "code",
   "execution_count": 25,
   "metadata": {
    "collapsed": false
   },
   "outputs": [
    {
     "data": {
      "text/plain": [
       "\n",
       "\tWelch Two Sample t-test\n",
       "\n",
       "data:  Perfect.IVs[Level.Met == 1] and Perfect.IVs[Level.Met != 1]\n",
       "t = 13.08, df = 240.7, p-value < 2.2e-16\n",
       "alternative hypothesis: true difference in means is greater than 0\n",
       "95 percent confidence interval:\n",
       " 1.435452      Inf\n",
       "sample estimates:\n",
       "mean of x mean of y \n",
       "1.8894231 0.2465753 \n"
      ]
     },
     "metadata": {},
     "output_type": "display_data"
    }
   ],
   "source": [
    "t.test(Perfect.IVs[Level.Met==1], Perfect.IVs[Level.Met!=1], alternative=\"greater\")"
   ]
  },
  {
   "cell_type": "markdown",
   "metadata": {},
   "source": [
    "With such a small p-value, we can reject the null hypothesis and conclude that there is statistically significant evidence that the number of perfect IVs in hatched Pokemon is greater than that of non-hatched Pokemon.\n",
    "\n",
    "Finally, if you are curious, the two Pokemon with 6 perfect IVs were a Salandit and a Lunala. The Salandit was male, meaning it is unable to evolve (and thus of no use to a competitive trainer). The Lunala was actually likely hacked seeing as it was:\n",
    "\n",
    "<ol type=\"a\">\n",
    "    <li>A Wonder Traded Lunala</li>\n",
    "    <li>Holding a Master Ball</li>\n",
    "    <li>6 perfect IVs</li>\n",
    "</ol>"
   ]
  },
  {
   "cell_type": "markdown",
   "metadata": {},
   "source": [
    "<h2>Conclusion</h2>\n",
    "\n",
    "A lot of interesting data came out of this. I had a lot of fun collecting and analyzing this data and I hope you all found some of this interesting. Keep in mind that this data/analysis should not be taken as representative of Wonder Trade as a whole; this was done mostly to learn about R and basic data science. Feel free to use any of this analysis/dataset for your own work. I would love to see what kind of neat stuff other people come up with."
   ]
  }
 ],
 "metadata": {
  "anaconda-cloud": {},
  "kernelspec": {
   "display_name": "R",
   "language": "R",
   "name": "ir"
  },
  "language_info": {
   "codemirror_mode": "r",
   "file_extension": ".r",
   "mimetype": "text/x-r-source",
   "name": "R",
   "pygments_lexer": "r",
   "version": "3.3.1"
  }
 },
 "nbformat": 4,
 "nbformat_minor": 1
}
